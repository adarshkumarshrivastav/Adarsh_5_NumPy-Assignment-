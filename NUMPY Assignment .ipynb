{
 "cells": [
  {
   "cell_type": "code",
   "execution_count": 1,
   "id": "8e58d2aa-a4b0-424b-b43d-a9ae75c1430e",
   "metadata": {},
   "outputs": [
    {
     "name": "stdout",
     "output_type": "stream",
     "text": [
      "Array: [0 1 2 3 4 5]\n",
      "Data type: int64\n"
     ]
    }
   ],
   "source": [
    "# Q.1:- Create a NumPy array 'arr' of integers from 0 to 5 and print its data type.\n",
    "# Ans:-\n",
    "import numpy as np\n",
    "\n",
    "# Create the array\n",
    "arr = np.arange(6)\n",
    "\n",
    "# Print the array and its data type\n",
    "print(\"Array:\", arr)\n",
    "print(\"Data type:\", arr.dtype)\n"
   ]
  },
  {
   "cell_type": "code",
   "execution_count": 14,
   "id": "3c78ac39-26dc-49f1-823d-3776cea07a69",
   "metadata": {},
   "outputs": [
    {
     "name": "stdout",
     "output_type": "stream",
     "text": [
      "Is the data type float64? True\n"
     ]
    }
   ],
   "source": [
    "# Q.2:- Given a NumPy array 'arr', check if its data type is float64.\n",
    "      # arr = np. array([1.5,2.6,3.7])\n",
    "# Ans:- \n",
    "import numpy as np\n",
    "\n",
    "# Create the array\n",
    "arr = np.  array([1.5,2.6,3.7])\n",
    "\n",
    "# Check if the data type is float64\n",
    "is_float64 = arr.dtype == np.float64\n",
    "\n",
    "print(\"Is the data type float64?\", is_float64)\n"
   ]
  },
  {
   "cell_type": "code",
   "execution_count": 15,
   "id": "e3a1f843-20a5-44ea-b0e9-b87bb051e059",
   "metadata": {},
   "outputs": [
    {
     "name": "stdout",
     "output_type": "stream",
     "text": [
      "Array: [1.+2.j 3.+4.j 5.+6.j]\n",
      "Data type: complex128\n"
     ]
    }
   ],
   "source": [
    "# Q.3:- Create a NumPy array 'arr' with a data type of complex128 containing three complex numbers.\n",
    "# Ans:-\n",
    "import numpy as np\n",
    "\n",
    "# Create the array with complex128 data type\n",
    "arr = np.array([1+2j, 3+4j, 5+6j], dtype=np.complex128)\n",
    "\n",
    "# Print the array and its data type\n",
    "print(\"Array:\", arr)\n",
    "print(\"Data type:\", arr.dtype)\n",
    "\n"
   ]
  },
  {
   "cell_type": "code",
   "execution_count": 17,
   "id": "52151391-0334-48f0-a3ac-5b0d3c5f082f",
   "metadata": {},
   "outputs": [
    {
     "name": "stdout",
     "output_type": "stream",
     "text": [
      "Array with float32 data type: [1. 2. 3. 4. 5.]\n",
      "Data type: float32\n"
     ]
    }
   ],
   "source": [
    "# Q.4:- Convert an existing NumPy array 'arr' of integers to float32 data type.\n",
    "# Ans:-\n",
    "import numpy as np\n",
    "\n",
    "# Example existing array of integers\n",
    "arr = np.array([1, 2, 3, 4, 5])\n",
    "\n",
    "# Convert the array to float32\n",
    "arr_float32 = arr.astype(np.float32)\n",
    "\n",
    "# Print the new array and its data type\n",
    "print(\"Array with float32 data type:\", arr_float32)\n",
    "print(\"Data type:\", arr_float32.dtype)\n"
   ]
  },
  {
   "cell_type": "code",
   "execution_count": null,
   "id": "6f9e8f8d-f6f8-48d1-9a67-ca5e6d78a753",
   "metadata": {},
   "outputs": [],
   "source": [
    "# Q.5:-Given a NumPy array 'arr' with float64 data type , convert it to float32 to reduce decimal precision.\n",
    "# Ans:- \n",
    "import numpy as np\n",
    "\n",
    "# Example existing array with float64 data type\n",
    "arr = np.array([1.123456789, 2.987654321, 3.456789123], dtype=np.float64)\n",
    "\n",
    "# Convert the array to float32\n",
    "arr_float32 = arr.astype(np.float32)\n",
    "\n",
    "# Print the new array and its data type\n",
    "print(\"Array with float32 data type:\", arr_float32)\n",
    "print(\"Data type:\", arr_float32.dtype)\n"
   ]
  },
  {
   "cell_type": "code",
   "execution_count": 18,
   "id": "1a58e56b-7872-4832-a102-2492c9320105",
   "metadata": {},
   "outputs": [
    {
     "name": "stdout",
     "output_type": "stream",
     "text": [
      "Shape: (2, 3)\n",
      "Size: 6\n",
      "Data type: int64\n"
     ]
    }
   ],
   "source": [
    "# Q.6:- Write a function array_attributes that takes a NumPy array as input and returns its shape, size,and data type.\n",
    "# Ans:-\n",
    "import numpy as np\n",
    "\n",
    "def array_attributes(arr):\n",
    "    # Get the shape, size, and data type of the array\n",
    "    shape = arr.shape\n",
    "    size = arr.size\n",
    "    dtype = arr.dtype\n",
    "    \n",
    "    return shape, size, dtype\n",
    "\n",
    "# Example usage:\n",
    "arr = np.array([[1, 2, 3], [4, 5, 6]])\n",
    "shape, size, dtype = array_attributes(arr)\n",
    "\n",
    "print(\"Shape:\", shape)\n",
    "print(\"Size:\", size)\n",
    "print(\"Data type:\", dtype)\n"
   ]
  },
  {
   "cell_type": "code",
   "execution_count": 19,
   "id": "8eb820fe-4e4a-4931-ba0d-71b66cd58a9f",
   "metadata": {},
   "outputs": [
    {
     "name": "stdout",
     "output_type": "stream",
     "text": [
      "Shape: (2, 3)\n",
      "Size: 6\n",
      "Data type: int64\n"
     ]
    }
   ],
   "source": [
    "# Q.7:- Create a function array_dimension that takes a NumPy array as input and return its shapes, size,and data type.\n",
    "# Ans:- \n",
    "import numpy as np\n",
    "\n",
    "def array_dimension(arr):\n",
    "    # Get the shape, size, and data type of the array\n",
    "    shape = arr.shape\n",
    "    size = arr.size\n",
    "    dtype = arr.dtype\n",
    "    \n",
    "    return shape, size, dtype\n",
    "\n",
    "# Example usage:\n",
    "arr = np.array([[1, 2, 3], [4, 5, 6]])\n",
    "shape, size, dtype = array_dimension(arr)\n",
    "\n",
    "print(\"Shape:\", shape)\n",
    "print(\"Size:\", size)\n",
    "print(\"Data type:\", dtype)\n"
   ]
  },
  {
   "cell_type": "code",
   "execution_count": 20,
   "id": "14a9423f-1af6-4251-8d8d-a76cfc93fd6e",
   "metadata": {},
   "outputs": [
    {
     "name": "stdout",
     "output_type": "stream",
     "text": [
      "Item size (bytes): 4\n",
      "Total size (bytes): 24\n"
     ]
    }
   ],
   "source": [
    "# Q.8:- Design a function item_size_info that takes a NumPy array as input and returns the item size and the total size in bytes.\n",
    "# Ans:-\n",
    "import numpy as np\n",
    "\n",
    "def item_size_info(arr):\n",
    "    # Get the size of one array element in bytes\n",
    "    item_size = arr.itemsize\n",
    "    \n",
    "    # Calculate the total size in bytes\n",
    "    total_size = arr.nbytes\n",
    "    \n",
    "    return item_size, total_size\n",
    "\n",
    "# Example usage:\n",
    "arr = np.array([[1, 2, 3], [4, 5, 6]], dtype=np.float32)\n",
    "item_size, total_size = item_size_info(arr)\n",
    "\n",
    "print(\"Item size (bytes):\", item_size)\n",
    "print(\"Total size (bytes):\", total_size)\n"
   ]
  },
  {
   "cell_type": "code",
   "execution_count": 21,
   "id": "fcc581a0-a726-45f4-ab4c-d25631932fb9",
   "metadata": {},
   "outputs": [
    {
     "name": "stdout",
     "output_type": "stream",
     "text": [
      "Strides: (24, 8)\n"
     ]
    }
   ],
   "source": [
    "# Q.9:- Create a function array_strides that takes a NumPy array as input and returns the strides of the array.\n",
    "# Ans:-\n",
    "import numpy as np\n",
    "\n",
    "def array_strides(arr):\n",
    "    # Get the strides of the array\n",
    "    strides = arr.strides\n",
    "    \n",
    "    return strides\n",
    "\n",
    "# Example usage:\n",
    "arr = np.array([[1, 2, 3], [4, 5, 6]])\n",
    "strides = array_strides(arr)\n",
    "\n",
    "print(\"Strides:\", strides)\n"
   ]
  },
  {
   "cell_type": "code",
   "execution_count": 22,
   "id": "1e5a0853-b0fa-4b79-93aa-244233eb9934",
   "metadata": {},
   "outputs": [
    {
     "name": "stdout",
     "output_type": "stream",
     "text": [
      "Shape: (2, 3)\n",
      "Strides: (24, 8)\n"
     ]
    }
   ],
   "source": [
    "# Q.10:- Design a function shape_stride_relationship that takes a NumPy array as input and returns the shape and strides of the array.\n",
    "# Ans:-\n",
    "import numpy as np\n",
    "\n",
    "def shape_stride_relationship(arr):\n",
    "    # Get the shape of the array\n",
    "    shape = arr.shape\n",
    "    \n",
    "    # Get the strides of the array\n",
    "    strides = arr.strides\n",
    "    \n",
    "    return shape, strides\n",
    "\n",
    "# Example usage:\n",
    "arr = np.array([[1, 2, 3], [4, 5, 6]])\n",
    "shape, strides = shape_stride_relationship(arr)\n",
    "\n",
    "print(\"Shape:\", shape)\n",
    "print(\"Strides:\", strides)\n"
   ]
  },
  {
   "cell_type": "code",
   "execution_count": 1,
   "id": "b8298df7-8dfe-4c48-946f-996ef2aef25d",
   "metadata": {},
   "outputs": [
    {
     "name": "stdout",
     "output_type": "stream",
     "text": [
      "Zeros array: [0. 0. 0. 0. 0.]\n"
     ]
    }
   ],
   "source": [
    "# Q.11:-Create a function 'create_zeros_array' that takes taken an integer 'n' as input and returns a NumPy array of  zeros with 'n' elements.\n",
    "# Ans:-\n",
    "import numpy as np\n",
    "\n",
    "def create_zeros_array(n):\n",
    "    # Create a NumPy array of zeros with n elements\n",
    "    zeros_array = np.zeros(n)\n",
    "    \n",
    "    return zeros_array\n",
    "\n",
    "# Example usage:\n",
    "n = 5\n",
    "zeros_array = create_zeros_array(n)\n",
    "\n",
    "print(\"Zeros array:\", zeros_array)\n"
   ]
  },
  {
   "cell_type": "code",
   "execution_count": 2,
   "id": "8ae84a5b-f0de-471f-8dbb-7978a7dc00b1",
   "metadata": {},
   "outputs": [
    {
     "name": "stdout",
     "output_type": "stream",
     "text": [
      "Ones matrix:\n",
      " [[1. 1. 1. 1.]\n",
      " [1. 1. 1. 1.]\n",
      " [1. 1. 1. 1.]]\n"
     ]
    }
   ],
   "source": [
    "# Q.12:- Write a function 'create_ones_matrix' that takes integers 'rows' and 'cols' as inputs and generates a 2D NumPy array filled with ones of  size 'rows x cols'.\n",
    "# Ans:-\n",
    "import numpy as np\n",
    "\n",
    "def create_ones_matrix(rows, cols):\n",
    "    # Create a 2D NumPy array filled with ones\n",
    "    ones_matrix = np.ones((rows, cols))\n",
    "    \n",
    "    return ones_matrix\n",
    "\n",
    "# Example usage:\n",
    "rows = 3\n",
    "cols = 4\n",
    "ones_matrix = create_ones_matrix(rows, cols)\n",
    "\n",
    "print(\"Ones matrix:\\n\", ones_matrix)\n"
   ]
  },
  {
   "cell_type": "code",
   "execution_count": 3,
   "id": "7cdf0853-bacd-4c05-9663-8c0fa5e70e39",
   "metadata": {},
   "outputs": [
    {
     "name": "stdout",
     "output_type": "stream",
     "text": [
      "Range array: [0 2 4 6 8]\n"
     ]
    }
   ],
   "source": [
    "# Q.13:- Write a function 'generate_range_array' that takes threee integers start,stop, and step as arguments and creates a NumPy array with a range starting from 'start',ending at stop(exclusive),and with the specified 'step'.\n",
    "# Ans:-\n",
    "import numpy as np\n",
    "\n",
    "def generate_range_array(start, stop, step):\n",
    "    # Create a NumPy array with the specified range\n",
    "    range_array = np.arange(start, stop, step)\n",
    "    \n",
    "    return range_array\n",
    "\n",
    "# Example usage:\n",
    "start = 0\n",
    "stop = 10\n",
    "step = 2\n",
    "range_array = generate_range_array(start, stop, step)\n",
    "\n",
    "print(\"Range array:\", range_array)\n"
   ]
  },
  {
   "cell_type": "code",
   "execution_count": 6,
   "id": "ea82e483-e66a-4a07-ad73-1ef2e5e7b410",
   "metadata": {},
   "outputs": [
    {
     "name": "stdout",
     "output_type": "stream",
     "text": [
      "Linear space array: [0.   0.25 0.5  0.75 1.  ]\n"
     ]
    }
   ],
   "source": [
    "#Q.14:- Design a function 'Generate_linear_space' that takes two floats 'start','stop'and an integers 'num'as arguments and generates a NumPy array with num equally spaced values between 'start'and 'stop'(inclusive).\n",
    "# Ans:-\n",
    "import numpy as np\n",
    "\n",
    "def generate_linear_space(start, stop, num):\n",
    "    # Create a NumPy array with num equally spaced values between start and stop\n",
    "    linear_space_array = np.linspace(start, stop, num)\n",
    "    \n",
    "    return linear_space_array\n",
    "\n",
    "# Example usage:\n",
    "start = 0.0\n",
    "stop = 1.0\n",
    "num = 5\n",
    "linear_space_array = generate_linear_space(start, stop, num)\n",
    "\n",
    "print(\"Linear space array:\", linear_space_array)\n"
   ]
  },
  {
   "cell_type": "code",
   "execution_count": 7,
   "id": "242bc667-9d50-4ac9-bd4d-368c3558fb21",
   "metadata": {},
   "outputs": [
    {
     "name": "stdout",
     "output_type": "stream",
     "text": [
      "Identity matrix:\n",
      " [[1. 0. 0. 0.]\n",
      " [0. 1. 0. 0.]\n",
      " [0. 0. 1. 0.]\n",
      " [0. 0. 0. 1.]]\n"
     ]
    }
   ],
   "source": [
    "# Q.15:-Create a function 'create_identity_matrix' that takes 'n' as inputs and generates a square identity matrix of size 'n*n' using 'numpy.eye'.\n",
    "# Ans:- \n",
    "import numpy as np\n",
    "\n",
    "def create_identity_matrix(n):\n",
    "    # Create a square identity matrix of size n x n\n",
    "    identity_matrix = np.eye(n)\n",
    "    \n",
    "    return identity_matrix\n",
    "\n",
    "# Example usage:\n",
    "n = 4\n",
    "identity_matrix = create_identity_matrix(n)\n",
    "\n",
    "print(\"Identity matrix:\\n\", identity_matrix)\n"
   ]
  },
  {
   "cell_type": "code",
   "execution_count": 8,
   "id": "adaebd1a-6ba8-4d90-a75c-24583faca80c",
   "metadata": {},
   "outputs": [
    {
     "name": "stdout",
     "output_type": "stream",
     "text": [
      "NumPy array: [1 2 3 4 5]\n"
     ]
    }
   ],
   "source": [
    "# Q.16:- Write a function that takes a python list and converts it into a NumPy array.\n",
    "# Ans:-\n",
    "import numpy as np\n",
    "\n",
    "def list_to_numpy_array(py_list):\n",
    "    # Convert the Python list to a NumPy array\n",
    "    np_array = np.array(py_list)\n",
    "    \n",
    "    return np_array\n",
    "\n",
    "# Example usage:\n",
    "py_list = [1, 2, 3, 4, 5]\n",
    "np_array = list_to_numpy_array(py_list)\n",
    "\n",
    "print(\"NumPy array:\", np_array)\n"
   ]
  },
  {
   "cell_type": "code",
   "execution_count": 10,
   "id": "cf409e7b-d896-4565-a86a-5c8e1912adfb",
   "metadata": {},
   "outputs": [
    {
     "name": "stdout",
     "output_type": "stream",
     "text": [
      "Original array: [10  2  3  4  5]\n",
      "View array: [10  2  3  4  5]\n"
     ]
    }
   ],
   "source": [
    "#Q.17:- Create a NumPy array and demonstrate the use of 'numpy.view' to create a new array object with the same data.\n",
    "# Ans:-\n",
    "import numpy as np\n",
    "\n",
    "# Create an initial NumPy array\n",
    "original_array = np.array([1, 2, 3, 4, 5])\n",
    "\n",
    "# Create a new view of the original array\n",
    "view_array = original_array.view()\n",
    "\n",
    "# Modify the view array\n",
    "view_array[0] = 10\n",
    "\n",
    "# Print the original array and the view array to show that both share the same data\n",
    "print(\"Original array:\", original_array)\n",
    "print(\"View array:\", view_array)\n"
   ]
  },
  {
   "cell_type": "code",
   "execution_count": 11,
   "id": "df0ef530-be3c-4eaf-a46c-3f725ff6dd3f",
   "metadata": {},
   "outputs": [
    {
     "name": "stdout",
     "output_type": "stream",
     "text": [
      "Concatenated array:\n",
      " [[1 2]\n",
      " [3 4]\n",
      " [5 6]\n",
      " [7 8]]\n"
     ]
    }
   ],
   "source": [
    "# Q.18:- Write a function that takes two NumPy array and concatenates them along a specified axis.\n",
    "# Ans:-\n",
    "import numpy as np\n",
    "\n",
    "def concatenate_arrays(arr1, arr2, axis=0):\n",
    "    # Concatenate the two arrays along the specified axis\n",
    "    concatenated_array = np.concatenate((arr1, arr2), axis=axis)\n",
    "    \n",
    "    return concatenated_array\n",
    "\n",
    "# Example usage:\n",
    "arr1 = np.array([[1, 2], [3, 4]])\n",
    "arr2 = np.array([[5, 6], [7, 8]])\n",
    "axis = 0  # Concatenate along rows\n",
    "\n",
    "result = concatenate_arrays(arr1, arr2, axis)\n",
    "\n",
    "print(\"Concatenated array:\\n\", result)\n"
   ]
  },
  {
   "cell_type": "code",
   "execution_count": 12,
   "id": "9a4cceea-2af4-4db8-9c4b-1b76abeb465a",
   "metadata": {},
   "outputs": [
    {
     "name": "stdout",
     "output_type": "stream",
     "text": [
      "Array 1:\n",
      " [[1 2 3]\n",
      " [4 5 6]]\n",
      "Array 2:\n",
      " [[ 7  8]\n",
      " [ 9 10]]\n",
      "Concatenated array:\n",
      " [[ 1  2  3  7  8]\n",
      " [ 4  5  6  9 10]]\n"
     ]
    }
   ],
   "source": [
    "# Q.19:- Create two NumPy array with different shapes and concatenate them horizontally using 'numpy.concatenate\".\n",
    "# Ans:- \n",
    "import numpy as np\n",
    "\n",
    "# Create two NumPy arrays with compatible shapes for horizontal concatenation\n",
    "arr1 = np.array([[1, 2, 3],\n",
    "                 [4, 5, 6]])\n",
    "\n",
    "arr2 = np.array([[7, 8],\n",
    "                 [9, 10]])\n",
    "\n",
    "# Concatenate the arrays horizontally (axis=1)\n",
    "concatenated_array = np.concatenate((arr1, arr2), axis=1)\n",
    "\n",
    "print(\"Array 1:\\n\", arr1)\n",
    "print(\"Array 2:\\n\", arr2)\n",
    "print(\"Concatenated array:\\n\", concatenated_array)\n"
   ]
  },
  {
   "cell_type": "code",
   "execution_count": 13,
   "id": "6f10e6c2-9f68-4779-9f20-4f7748920945",
   "metadata": {},
   "outputs": [
    {
     "name": "stdout",
     "output_type": "stream",
     "text": [
      "Vertically stacked array:\n",
      " [[ 1  2  3]\n",
      " [ 4  5  6]\n",
      " [ 7  8  9]\n",
      " [10 11 12]\n",
      " [13 14 15]]\n"
     ]
    }
   ],
   "source": [
    "# Q.20:- Write a function that vertically stacks multiple Numpy arrays given as list.\n",
    "# Ans:-\n",
    "import numpy as np\n",
    "\n",
    "def vertical_stack_arrays(arrays):\n",
    "    # Vertically stack the list of NumPy arrays\n",
    "    stacked_array = np.vstack(arrays)\n",
    "    \n",
    "    return stacked_array\n",
    "\n",
    "# Example usage:\n",
    "arr1 = np.array([[1, 2, 3],\n",
    "                 [4, 5, 6]])\n",
    "\n",
    "arr2 = np.array([[7, 8, 9],\n",
    "                 [10, 11, 12]])\n",
    "\n",
    "arr3 = np.array([[13, 14, 15]])\n",
    "\n",
    "arrays = [arr1, arr2, arr3]\n",
    "\n",
    "result = vertical_stack_arrays(arrays)\n",
    "\n",
    "print(\"Vertically stacked array:\\n\", result)\n"
   ]
  },
  {
   "cell_type": "code",
   "execution_count": 14,
   "id": "98f32f51-8f34-465f-84a5-48b989e6a481",
   "metadata": {},
   "outputs": [
    {
     "name": "stdout",
     "output_type": "stream",
     "text": [
      "Range array: [1 3 5 7 9]\n"
     ]
    }
   ],
   "source": [
    "# Q.21:- Write a Python function using NumPy to create an array of integers within a specified range (inclusives) with a given step size.\n",
    "# Ans:-\n",
    "import numpy as np\n",
    "\n",
    "def create_range_array(start, stop, step):\n",
    "    \"\"\"\n",
    "    Create a NumPy array of integers within the specified range (inclusive) with a given step size.\n",
    "\n",
    "    Parameters:\n",
    "    - start (int): The starting value of the range.\n",
    "    - stop (int): The ending value of the range (inclusive).\n",
    "    - step (int): The step size between consecutive values.\n",
    "\n",
    "    Returns:\n",
    "    - np.ndarray: A NumPy array with integers from start to stop (inclusive) with the given step size.\n",
    "    \"\"\"\n",
    "    # Generate an array with values from start to stop (inclusive) with the specified step\n",
    "    range_array = np.arange(start, stop + 1, step)\n",
    "    \n",
    "    return range_array\n",
    "\n",
    "# Example usage:\n",
    "start = 1\n",
    "stop = 10\n",
    "step = 2\n",
    "result = create_range_array(start, stop, step)\n",
    "\n",
    "print(\"Range array:\", result)\n"
   ]
  },
  {
   "cell_type": "code",
   "execution_count": 15,
   "id": "1474b4d7-ad06-4bba-a9e4-9a5fdd7b6b6a",
   "metadata": {},
   "outputs": [
    {
     "name": "stdout",
     "output_type": "stream",
     "text": [
      "Equally spaced array: [0.         0.11111111 0.22222222 0.33333333 0.44444444 0.55555556\n",
      " 0.66666667 0.77777778 0.88888889 1.        ]\n"
     ]
    }
   ],
   "source": [
    "# Q.22:- Write a python function using NumPy to generate an array of 10 equally spaced values betwwen 0 and 1(inclusive). \n",
    "# Ans:-\n",
    "import numpy as np\n",
    "\n",
    "def generate_equally_spaced_array(start, stop, num_values):\n",
    "    \"\"\"\n",
    "    Generate a NumPy array of equally spaced values between start and stop (inclusive).\n",
    "\n",
    "    Parameters:\n",
    "    - start (float): The starting value of the range.\n",
    "    - stop (float): The ending value of the range (inclusive).\n",
    "    - num_values (int): The number of equally spaced values to generate.\n",
    "\n",
    "    Returns:\n",
    "    - np.ndarray: A NumPy array with equally spaced values from start to stop (inclusive).\n",
    "    \"\"\"\n",
    "    # Generate the array with equally spaced values\n",
    "    spaced_array = np.linspace(start, stop, num_values)\n",
    "    \n",
    "    return spaced_array\n",
    "\n",
    "# Example usage:\n",
    "start = 0\n",
    "stop = 1\n",
    "num_values = 10\n",
    "result = generate_equally_spaced_array(start, stop, num_values)\n",
    "\n",
    "print(\"Equally spaced array:\", result)\n"
   ]
  },
  {
   "cell_type": "code",
   "execution_count": 16,
   "id": "3d0ec6fe-824a-479c-8360-27e5006068c0",
   "metadata": {},
   "outputs": [
    {
     "name": "stdout",
     "output_type": "stream",
     "text": [
      "Logarithmically spaced array: [   1.            5.62341325   31.6227766   177.827941   1000.        ]\n"
     ]
    }
   ],
   "source": [
    "# Q.23. Write a Python function using NumPy to create an array of 5 logarithmically spaced values between 1 and 1000(inclusive).\n",
    "# Ans:-\n",
    "import numpy as np\n",
    "\n",
    "def generate_logarithmically_spaced_array(start, stop, num_values):\n",
    "    \"\"\"\n",
    "    Generate a NumPy array of logarithmically spaced values between start and stop (inclusive).\n",
    "\n",
    "    Parameters:\n",
    "    - start (float): The starting value of the range (must be greater than 0).\n",
    "    - stop (float): The ending value of the range (must be greater than start).\n",
    "    - num_values (int): The number of logarithmically spaced values to generate.\n",
    "\n",
    "    Returns:\n",
    "    - np.ndarray: A NumPy array with logarithmically spaced values from start to stop (inclusive).\n",
    "    \"\"\"\n",
    "    # Generate the array with logarithmically spaced values\n",
    "    log_spaced_array = np.logspace(np.log10(start), np.log10(stop), num_values)\n",
    "    \n",
    "    return log_spaced_array\n",
    "\n",
    "# Example usage:\n",
    "start = 1\n",
    "stop = 1000\n",
    "num_values = 5\n",
    "result = generate_logarithmically_spaced_array(start, stop, num_values)\n",
    "\n",
    "print(\"Logarithmically spaced array:\", result)\n"
   ]
  },
  {
   "cell_type": "code",
   "execution_count": 17,
   "id": "7f733711-796e-46c1-ab91-a214134b21ce",
   "metadata": {},
   "outputs": [
    {
     "name": "stdout",
     "output_type": "stream",
     "text": [
      "Pandas DataFrame:\n",
      "    Column1  Column2  Column3\n",
      "0       64       13       76\n",
      "1       36       92       27\n",
      "2       36       70       57\n",
      "3       31       88       31\n",
      "4       23       46       65\n"
     ]
    }
   ],
   "source": [
    "# Q.24:- create a Pandas DataFrame using a NumPy array that contains 5 rows and 3 columns, where the values are random  integers between 1 and 100.\n",
    "# ans:-\n",
    "import numpy as np\n",
    "import pandas as pd\n",
    "\n",
    "# Generate a NumPy array with random integers between 1 and 100\n",
    "array = np.random.randint(1, 101, size=(5, 3))\n",
    "\n",
    "# Create a Pandas DataFrame from the NumPy array\n",
    "df = pd.DataFrame(array, columns=['Column1', 'Column2', 'Column3'])\n",
    "\n",
    "print(\"Pandas DataFrame:\\n\", df)\n"
   ]
  },
  {
   "cell_type": "code",
   "execution_count": 18,
   "id": "f878512d-cc40-4042-a25e-4196ef7853e7",
   "metadata": {},
   "outputs": [
    {
     "name": "stdout",
     "output_type": "stream",
     "text": [
      "Original DataFrame:\n",
      "    A   B\n",
      "0  1   6\n",
      "1 -2   7\n",
      "2  3  -8\n",
      "3 -4   9\n",
      "4  5 -10\n",
      "\n",
      "DataFrame after replacing negative values in column 'A':\n",
      "    A   B\n",
      "0  1   6\n",
      "1  0   7\n",
      "2  3  -8\n",
      "3  0   9\n",
      "4  5 -10\n"
     ]
    }
   ],
   "source": [
    "# Q.25:- Write a function that takes a Pandas DataFrame and replaces all negative values in a specific column with zeros. use Numpy operations within the Pandas DataFrame.\n",
    "#Ans :-\n",
    "import pandas as pd\n",
    "import numpy as np\n",
    "\n",
    "def replace_negative_values(df, column_name):\n",
    "    \"\"\"\n",
    "    Replace all negative values in a specified column of a Pandas DataFrame with zeros.\n",
    "\n",
    "    Parameters:\n",
    "    - df (pd.DataFrame): The DataFrame in which to replace negative values.\n",
    "    - column_name (str): The name of the column in which to replace negative values.\n",
    "\n",
    "    Returns:\n",
    "    - pd.DataFrame: The DataFrame with negative values replaced by zeros in the specified column.\n",
    "    \"\"\"\n",
    "    # Replace negative values with zeros using NumPy's where function\n",
    "    df[column_name] = np.where(df[column_name] < 0, 0, df[column_name])\n",
    "    \n",
    "    return df\n",
    "\n",
    "# Example usage:\n",
    "data = {\n",
    "    'A': [1, -2, 3, -4, 5],\n",
    "    'B': [6, 7, -8, 9, -10]\n",
    "}\n",
    "\n",
    "df = pd.DataFrame(data)\n",
    "\n",
    "print(\"Original DataFrame:\\n\", df)\n",
    "\n",
    "df_modified = replace_negative_values(df, 'A')\n",
    "\n",
    "print(\"\\nDataFrame after replacing negative values in column 'A':\\n\", df_modified)\n"
   ]
  },
  {
   "cell_type": "code",
   "execution_count": 1,
   "id": "dbb5d7bb-2f31-4779-9076-0fa0cc8a2f24",
   "metadata": {},
   "outputs": [
    {
     "name": "stdout",
     "output_type": "stream",
     "text": [
      "The 3rd element is: 30\n"
     ]
    }
   ],
   "source": [
    "# Q.26:- Access the #rd element from the given NumPy array.\n",
    " #        arr  = np.array([10,20,30,40,50])\n",
    "  #  Ans:-\n",
    "import numpy as np\n",
    "\n",
    "# Define the NumPy array\n",
    "arr = np.array([10, 20, 30, 40, 50])\n",
    "\n",
    "# Access the 3rd element (index 2)\n",
    "third_element = arr[2]\n",
    "\n",
    "print(\"The 3rd element is:\", third_element)\n"
   ]
  },
  {
   "cell_type": "code",
   "execution_count": 2,
   "id": "b1f4b93a-9ca0-41fe-90c5-b5eb73605bcb",
   "metadata": {},
   "outputs": [
    {
     "name": "stdout",
     "output_type": "stream",
     "text": [
      "The element at index (1, 2) is: 6\n"
     ]
    }
   ],
   "source": [
    "# Q.27:- Retrive the element at index(1,2) from the 2D NumPy array.\n",
    "#        arr_2d =np.array ([[1,2,3],[ 4,5,6],[7,8,9]])\n",
    "# ans:-\n",
    "import numpy as np\n",
    "\n",
    "# Define the 2D NumPy array\n",
    "arr_2d = np.array([[1, 2, 3],\n",
    "                   [4, 5, 6],\n",
    "                   [7, 8, 9]])\n",
    "\n",
    "# Retrieve the element at index (1, 2)\n",
    "element = arr_2d[1, 2]\n",
    "\n",
    "print(\"The element at index (1, 2) is:\", element)\n"
   ]
  },
  {
   "cell_type": "code",
   "execution_count": 3,
   "id": "66c7dba5-799b-4e5d-8e39-e6e5e70170ef",
   "metadata": {},
   "outputs": [
    {
     "name": "stdout",
     "output_type": "stream",
     "text": [
      "Elements greater than 5: [ 8 10  7]\n"
     ]
    }
   ],
   "source": [
    "# Q.28.:- Using boolean indexing,extraction greater than 5 from the given NumPy array.\n",
    "#                 arr = np.array([3,8,2,10,5,7])\n",
    "# Ans:-\n",
    "import numpy as np\n",
    "\n",
    "# Define the NumPy array\n",
    "arr = np.array([3, 8, 2, 10, 5, 7])\n",
    "\n",
    "# Create a boolean mask where elements are greater than 5\n",
    "mask = arr > 5\n",
    "\n",
    "# Use the boolean mask to extract elements greater than 5\n",
    "filtered_elements = arr[mask]\n",
    "\n",
    "print(\"Elements greater than 5:\", filtered_elements)\n"
   ]
  },
  {
   "cell_type": "code",
   "execution_count": 4,
   "id": "31ba7800-49b4-4e65-a543-9da7d670b991",
   "metadata": {},
   "outputs": [
    {
     "name": "stdout",
     "output_type": "stream",
     "text": [
      "Elements from index 2 to 5 (inclusive): [3 4 5 6]\n"
     ]
    }
   ],
   "source": [
    "# Q.29:- Perform basic slicing to extract elements from index 2 to 5(inclusive) from the given NumPy array.\n",
    "#                            arr = np.array([1,2,3,4,5,6,7,8,9])\n",
    "# Ans:-\n",
    "import numpy as np\n",
    "\n",
    "# Define the NumPy array\n",
    "arr = np.array([1, 2, 3, 4, 5, 6, 7, 8, 9])\n",
    "\n",
    "# Extract elements from index 2 to 5 (inclusive)\n",
    "sliced_elements = arr[2:6]\n",
    "\n",
    "print(\"Elements from index 2 to 5 (inclusive):\", sliced_elements)\n"
   ]
  },
  {
   "cell_type": "code",
   "execution_count": 5,
   "id": "0f60df86-43b4-4f4c-9a02-e09c3bac9f68",
   "metadata": {},
   "outputs": [
    {
     "name": "stdout",
     "output_type": "stream",
     "text": [
      "Extracted sub-array:\n",
      " [[5 6]\n",
      " [8 9]]\n"
     ]
    }
   ],
   "source": [
    "# Q.30:- Slice the 2D Numpy array to extract the sub- array'[[2,3],[5,6]]'from the given array.\n",
    "#          arr_2D = np.array([1,2,3],[4,5,6],[7,8,9]]).\n",
    "# Ans:-\n",
    "import numpy as np\n",
    "\n",
    "# Define the 2D NumPy array\n",
    "arr_2D = np.array([[1, 2, 3],\n",
    "                   [4, 5, 6],\n",
    "                   [7, 8, 9]])\n",
    "\n",
    "# Slice to extract the sub-array [[2, 3], [5, 6]]\n",
    "sub_array = arr_2D[1:3, 1:3]\n",
    "\n",
    "print(\"Extracted sub-array:\\n\", sub_array)\n"
   ]
  },
  {
   "cell_type": "code",
   "execution_count": 1,
   "id": "26b6965b-d10b-41bf-825b-0ba4257b6d77",
   "metadata": {},
   "outputs": [
    {
     "name": "stdout",
     "output_type": "stream",
     "text": [
      "Extracted elements: [20 60 70]\n"
     ]
    }
   ],
   "source": [
    "# Q.31:- Write a NumPy function to extract elements in specific order from a given 2D array based on indices provided in another array.\n",
    "# Ans:-\n",
    "import numpy as np\n",
    "\n",
    "def extract_elements_by_indices(array_2d, indices):\n",
    "    \"\"\"\n",
    "    Extract elements from a 2D NumPy array based on indices provided in another array.\n",
    "\n",
    "    Parameters:\n",
    "    - array_2d (np.ndarray): The 2D array from which to extract elements.\n",
    "    - indices (np.ndarray): An array of indices to extract elements. Each element should be a tuple (row_index, column_index).\n",
    "\n",
    "    Returns:\n",
    "    - np.ndarray: An array of extracted elements.\n",
    "    \"\"\"\n",
    "    # Convert the indices array to a list of tuples\n",
    "    index_tuples = [tuple(index) for index in indices]\n",
    "    \n",
    "    # Extract elements based on the provided indices\n",
    "    extracted_elements = array_2d[tuple(zip(*index_tuples))]\n",
    "    \n",
    "    return extracted_elements\n",
    "\n",
    "# Example usage:\n",
    "arr_2D = np.array([[10, 20, 30],\n",
    "                   [40, 50, 60],\n",
    "                   [70, 80, 90]])\n",
    "\n",
    "# Indices to extract: (0, 1), (1, 2), (2, 0)\n",
    "indices = np.array([[0, 1], [1, 2], [2, 0]])\n",
    "\n",
    "# Extract elements based on the provided indices\n",
    "result = extract_elements_by_indices(arr_2D, indices)\n",
    "\n",
    "print(\"Extracted elements:\", result)\n"
   ]
  },
  {
   "cell_type": "code",
   "execution_count": 2,
   "id": "22bd4718-3f3b-4dca-8403-e2b87a5c743d",
   "metadata": {},
   "outputs": [
    {
     "name": "stdout",
     "output_type": "stream",
     "text": [
      "Elements greater than 5 : [ 8 10  6]\n"
     ]
    }
   ],
   "source": [
    "# Q.32:- Create a Numpy function that filters elements greater than a threshold from a given 1D array using boolean indexing\n",
    "# Ans:-\n",
    "import numpy as np\n",
    "\n",
    "def filter_elements_greater_than(array, threshold):\n",
    "    \"\"\"\n",
    "    Filter elements greater than a specified threshold from a 1D NumPy array using boolean indexing.\n",
    "\n",
    "    Parameters:\n",
    "    - array (np.ndarray): The 1D array to filter.\n",
    "    - threshold (float): The threshold value to compare against.\n",
    "\n",
    "    Returns:\n",
    "    - np.ndarray: A 1D array with elements greater than the threshold.\n",
    "    \"\"\"\n",
    "    # Create a boolean mask where elements are greater than the threshold\n",
    "    mask = array > threshold\n",
    "    \n",
    "    # Use the boolean mask to filter elements\n",
    "    filtered_elements = array[mask]\n",
    "    \n",
    "    return filtered_elements\n",
    "\n",
    "# Example usage:\n",
    "arr = np.array([1, 5, 8, 3, 10, 6])\n",
    "threshold = 5\n",
    "\n",
    "result = filter_elements_greater_than(arr, threshold)\n",
    "\n",
    "print(\"Elements greater than\", threshold, \":\", result)\n"
   ]
  },
  {
   "cell_type": "code",
   "execution_count": 3,
   "id": "1e57eaf8-6b81-436d-b4bb-99a71a38cceb",
   "metadata": {},
   "outputs": [
    {
     "name": "stdout",
     "output_type": "stream",
     "text": [
      "Extracted elements: [60 81 12]\n"
     ]
    }
   ],
   "source": [
    "# Q.33. Develop a Numpy function that extracts specific elements from a 3D array using indices provided in three separate arrays for each dimension.\n",
    "# Ans:-\n",
    "import numpy as np\n",
    "\n",
    "def extract_elements_from_3d_array(array_3d, row_indices, col_indices, depth_indices):\n",
    "    \"\"\"\n",
    "    Extract specific elements from a 3D NumPy array using indices provided in three separate arrays.\n",
    "\n",
    "    Parameters:\n",
    "    - array_3d (np.ndarray): The 3D array from which to extract elements.\n",
    "    - row_indices (np.ndarray): Array of row indices.\n",
    "    - col_indices (np.ndarray): Array of column indices.\n",
    "    - depth_indices (np.ndarray): Array of depth indices.\n",
    "\n",
    "    Returns:\n",
    "    - np.ndarray: Array of extracted elements.\n",
    "    \"\"\"\n",
    "    # Use advanced indexing to extract elements based on provided indices\n",
    "    extracted_elements = array_3d[row_indices, col_indices, depth_indices]\n",
    "    \n",
    "    return extracted_elements\n",
    "\n",
    "# Example usage:\n",
    "array_3d = np.array([[[10, 20, 30],\n",
    "                      [40, 50, 60],\n",
    "                      [70, 80, 90]],\n",
    "\n",
    "                     [[11, 21, 31],\n",
    "                      [41, 51, 61],\n",
    "                      [71, 81, 91]],\n",
    "\n",
    "                     [[12, 22, 32],\n",
    "                      [42, 52, 62],\n",
    "                      [72, 82, 92]]])\n",
    "\n",
    "# Indices to extract\n",
    "row_indices = np.array([0, 1, 2])\n",
    "col_indices = np.array([1, 2, 0])\n",
    "depth_indices = np.array([2, 1, 0])\n",
    "\n",
    "# Extract elements based on the provided indices\n",
    "result = extract_elements_from_3d_array(array_3d, row_indices, col_indices, depth_indices)\n",
    "\n",
    "print(\"Extracted elements:\", result)\n"
   ]
  },
  {
   "cell_type": "code",
   "execution_count": 4,
   "id": "38a11249-72d9-49fd-b0ae-18634d58bdd4",
   "metadata": {},
   "outputs": [
    {
     "name": "stdout",
     "output_type": "stream",
     "text": [
      "Filtered elements: [4 6 8]\n"
     ]
    }
   ],
   "source": [
    "# Q.34:- Write a Numpy function that returns elements from an array where both two conditions are satisfied using boolean indexing.\n",
    "#Ans:-\n",
    "import numpy as np\n",
    "\n",
    "def filter_elements_with_conditions(array, condition1, condition2):\n",
    "    \"\"\"\n",
    "    Return elements from the array where both conditions are satisfied using boolean indexing.\n",
    "\n",
    "    Parameters:\n",
    "    - array (np.ndarray): The array to filter.\n",
    "    - condition1 (np.ndarray): A boolean array representing the first condition.\n",
    "    - condition2 (np.ndarray): A boolean array representing the second condition.\n",
    "\n",
    "    Returns:\n",
    "    - np.ndarray: An array of elements where both conditions are satisfied.\n",
    "    \"\"\"\n",
    "    # Ensure conditions are of the same shape as the array\n",
    "    if condition1.shape != array.shape or condition2.shape != array.shape:\n",
    "        raise ValueError(\"Condition arrays must have the same shape as the input array.\")\n",
    "    \n",
    "    # Combine conditions using logical AND\n",
    "    combined_condition = condition1 & condition2\n",
    "    \n",
    "    # Use the combined condition to filter elements\n",
    "    filtered_elements = array[combined_condition]\n",
    "    \n",
    "    return filtered_elements\n",
    "\n",
    "# Example usage:\n",
    "arr = np.array([1, 2, 3, 4, 5, 6, 7, 8, 9])\n",
    "\n",
    "# Define conditions\n",
    "condition1 = arr > 3\n",
    "condition2 = arr % 2 == 0\n",
    "\n",
    "# Filter elements where both conditions are satisfied\n",
    "result = filter_elements_with_conditions(arr, condition1, condition2)\n",
    "\n",
    "print(\"Filtered elements:\", result)\n"
   ]
  },
  {
   "cell_type": "code",
   "execution_count": 5,
   "id": "68ab9bee-0750-4937-859e-2b38a6f19484",
   "metadata": {},
   "outputs": [
    {
     "name": "stdout",
     "output_type": "stream",
     "text": [
      "Extracted elements: [20 60 70]\n"
     ]
    }
   ],
   "source": [
    "# Q.35:- Create a NumPy function that extracts elements from a 2D array using row and column indices provided in separate arrays.\n",
    "# Ans:-\n",
    "import numpy as np\n",
    "\n",
    "def extract_elements_from_2d_array(array_2d, row_indices, col_indices):\n",
    "    \"\"\"\n",
    "    Extract specific elements from a 2D NumPy array using row and column indices provided in separate arrays.\n",
    "\n",
    "    Parameters:\n",
    "    - array_2d (np.ndarray): The 2D array from which to extract elements.\n",
    "    - row_indices (np.ndarray): Array of row indices.\n",
    "    - col_indices (np.ndarray): Array of column indices.\n",
    "\n",
    "    Returns:\n",
    "    - np.ndarray: Array of extracted elements.\n",
    "    \"\"\"\n",
    "    # Ensure the row_indices and col_indices arrays have the same length\n",
    "    if len(row_indices) != len(col_indices):\n",
    "        raise ValueError(\"Row indices and column indices must have the same length.\")\n",
    "    \n",
    "    # Extract elements using advanced indexing\n",
    "    extracted_elements = array_2d[row_indices, col_indices]\n",
    "    \n",
    "    return extracted_elements\n",
    "\n",
    "# Example usage:\n",
    "array_2d = np.array([[10, 20, 30],\n",
    "                     [40, 50, 60],\n",
    "                     [70, 80, 90]])\n",
    "\n",
    "# Row and column indices to extract\n",
    "row_indices = np.array([0, 1, 2])\n",
    "col_indices = np.array([1, 2, 0])\n",
    "\n",
    "# Extract elements based on the provided indices\n",
    "result = extract_elements_from_2d_array(array_2d, row_indices, col_indices)\n",
    "\n",
    "print(\"Extracted elements:\", result)\n"
   ]
  },
  {
   "cell_type": "code",
   "execution_count": 6,
   "id": "9bf91359-bc6f-4642-8da3-fd882a27dc4b",
   "metadata": {},
   "outputs": [
    {
     "name": "stdout",
     "output_type": "stream",
     "text": [
      "Array after adding scalar value of 5:\n",
      " [[ 6  7  8]\n",
      " [ 9 10 11]\n",
      " [12 13 14]]\n"
     ]
    }
   ],
   "source": [
    "# Q.36:- Given an array arr of shape(3,3),add a scalar value of 5 to each element using NumPy broadcasting.\n",
    "# Ans:-\n",
    "import numpy as np\n",
    "\n",
    "# Define the 2D NumPy array with shape (3, 3)\n",
    "arr = np.array([[1, 2, 3],\n",
    "                [4, 5, 6],\n",
    "                [7, 8, 9]])\n",
    "\n",
    "# Scalar value to add\n",
    "scalar = 5\n",
    "\n",
    "# Add the scalar to each element of the array using broadcasting\n",
    "result = arr + scalar\n",
    "\n",
    "print(\"Array after adding scalar value of 5:\\n\", result)\n"
   ]
  },
  {
   "cell_type": "code",
   "execution_count": 12,
   "id": "7e925896-9f41-45ed-ac25-4d2a951dd333",
   "metadata": {},
   "outputs": [
    {
     "name": "stdout",
     "output_type": "stream",
     "text": [
      "Resulting array:\n",
      " [[ 2  4  6  8]\n",
      " [15 18 21 24]\n",
      " [36 40 44 48]]\n"
     ]
    }
   ],
   "source": [
    "# Q.37:- Consider two arrays arr1 of shape(1,3) and arr2 of shape(3,4). Multiply each row of arr2 by the corresponding element in arr1 using NumPy broadcasting.\n",
    "# Ans:-\n",
    "import numpy as np\n",
    "\n",
    "# Define the arrays\n",
    "arr1 = np.array([2, 3, 4])  # Shape (3,)\n",
    "arr2 = np.array([[1, 2, 3, 4],\n",
    "                 [5, 6, 7, 8],\n",
    "                 [9, 10, 11, 12]])  # Shape (3, 4)\n",
    "\n",
    "# Reshape arr1 to shape (3, 1) for broadcasting\n",
    "arr1_reshaped = arr1.reshape(3, 1)\n",
    "\n",
    "# Multiply each row of arr2 by the corresponding element in arr1 using broadcasting\n",
    "result = arr2 * arr1_reshaped\n",
    "\n",
    "print(\"Resulting array:\\n\", result)\n"
   ]
  },
  {
   "cell_type": "code",
   "execution_count": 13,
   "id": "aabd16d1-5333-4b45-beb5-e44f81b7cea6",
   "metadata": {},
   "outputs": [
    {
     "name": "stdout",
     "output_type": "stream",
     "text": [
      "Resulting array:\n",
      " [[ 6  8 10]\n",
      " [ 9 11 13]\n",
      " [12 14 16]\n",
      " [15 17 19]]\n"
     ]
    }
   ],
   "source": [
    "# Q.38:- Given a 1D array arr1 of shape(1,4) and a 2D array arr2 of shape(4,3),add arr1 to each row of arr2 using Numpy broadcasting.\n",
    "# Ans:-\n",
    "import numpy as np\n",
    "\n",
    "# Define the arrays\n",
    "arr1 = np.array([[1, 2, 3, 4]])  # Shape (1, 4)\n",
    "arr2 = np.array([[5, 6, 7],\n",
    "                 [8, 9, 10],\n",
    "                 [11, 12, 13],\n",
    "                 [14, 15, 16]])  # Shape (4, 3)\n",
    "\n",
    "# Reshape arr1 to be compatible for broadcasting\n",
    "arr1_reshaped = arr1.reshape(1, 4)  # Ensure arr1 has shape (1, 4)\n",
    "\n",
    "# Add arr1 to each row of arr2\n",
    "result = arr2 + arr1_reshaped[:, :arr2.shape[1]]\n",
    "\n",
    "print(\"Resulting array:\\n\", result)\n"
   ]
  },
  {
   "cell_type": "code",
   "execution_count": 14,
   "id": "f9af23d7-39dc-4f6c-97ff-64fff0769888",
   "metadata": {},
   "outputs": [
    {
     "name": "stdout",
     "output_type": "stream",
     "text": [
      "Resulting array:\n",
      " [[5 6 7]\n",
      " [6 7 8]\n",
      " [7 8 9]]\n"
     ]
    }
   ],
   "source": [
    "# Q.39:-Consider two arrays arr1 of shape(3,1) and arr2 of shape(1,3).Add these arrays using NumPy broadcasting.\n",
    "# Ans:-\n",
    "import numpy as np\n",
    "\n",
    "# Define the arrays\n",
    "arr1 = np.array([[1], [2], [3]])  # Shape (3, 1)\n",
    "arr2 = np.array([[4, 5, 6]])       # Shape (1, 3)\n",
    "\n",
    "# Add the arrays using broadcasting\n",
    "result = arr1 + arr2\n",
    "\n",
    "print(\"Resulting array:\\n\", result)\n"
   ]
  },
  {
   "cell_type": "code",
   "execution_count": 15,
   "id": "1c7668fc-ee26-44eb-985c-6dae13399b49",
   "metadata": {},
   "outputs": [
    {
     "name": "stdout",
     "output_type": "stream",
     "text": [
      "Resulting array:\n",
      " [[[ 7  8]\n",
      "  [14 16]\n",
      "  [21 24]]\n",
      "\n",
      " [[36 40]\n",
      "  [45 50]\n",
      "  [54 60]]]\n"
     ]
    }
   ],
   "source": [
    "# Q.40:- Given arrays arr1 of shape(2,3) and arr2 of shape (2,2),perform multiplication using NumPy broadcasting.Handle the shape incompatibility.\n",
    "# Ans:-\n",
    "import numpy as np\n",
    "\n",
    "# Define the arrays\n",
    "arr1 = np.array([[1, 2, 3],\n",
    "                 [4, 5, 6]])   # Shape (2, 3)\n",
    "arr2 = np.array([[7, 8],\n",
    "                 [9, 10]])    # Shape (2, 2)\n",
    "\n",
    "# Reshape arr2 to make it compatible with arr1 for broadcasting\n",
    "arr2_reshaped = arr2.reshape(2, 1, 2)  # Shape (2, 1, 2)\n",
    "\n",
    "# Perform the multiplication\n",
    "# Use broadcasting: arr1 (2, 3) and arr2_reshaped (2, 1, 2) will broadcast to (2, 3, 2)\n",
    "result = arr1[:, :, np.newaxis] * arr2_reshaped\n",
    "\n",
    "# Since the multiplication creates a 3D array, we can sum along the last axis if needed\n",
    "# For this example, we will leave it as a 3D array\n",
    "print(\"Resulting array:\\n\", result)\n"
   ]
  },
  {
   "cell_type": "code",
   "execution_count": 1,
   "id": "19956d2f-7fbc-46db-9c36-204f06533ab3",
   "metadata": {},
   "outputs": [
    {
     "name": "stdout",
     "output_type": "stream",
     "text": [
      "Column-wise mean: [2.5 3.5 4.5]\n"
     ]
    }
   ],
   "source": [
    "# Q.41:- Calculate column-wise mean for the given arrry:\n",
    "#               arr = np.array([1,2,3],[4,5,6,]])\n",
    "# Ans:-\n",
    "import numpy as np\n",
    "\n",
    "# Define the array\n",
    "arr = np.array([[1, 2, 3],\n",
    "                [4, 5, 6]])\n",
    "\n",
    "# Calculate the column-wise mean\n",
    "column_wise_mean = np.mean(arr, axis=0)\n",
    "\n",
    "print(\"Column-wise mean:\", column_wise_mean)\n"
   ]
  },
  {
   "cell_type": "code",
   "execution_count": 2,
   "id": "6d69d158-7563-4f8b-8d67-6f7763847b41",
   "metadata": {},
   "outputs": [
    {
     "name": "stdout",
     "output_type": "stream",
     "text": [
      "Maximum value in each row: [3 6]\n"
     ]
    }
   ],
   "source": [
    "# Q.42:-Find maximum value in each row of the given array:\n",
    "#        arr = np.array([[1,2,3],[4,5,6]])\n",
    "# Ans:-\n",
    "import numpy as np\n",
    "\n",
    "# Define the array\n",
    "arr = np.array([[1, 2, 3],\n",
    "                [4, 5, 6]])\n",
    "\n",
    "# Calculate the maximum value in each row\n",
    "row_max_values = np.max(arr, axis=1)\n",
    "\n",
    "print(\"Maximum value in each row:\", row_max_values)\n"
   ]
  },
  {
   "cell_type": "code",
   "execution_count": 3,
   "id": "7902d90e-fef9-41bf-93c0-970ebe2e4f8f",
   "metadata": {},
   "outputs": [
    {
     "name": "stdout",
     "output_type": "stream",
     "text": [
      "Indices of maximum value in each column: [1 1 1]\n"
     ]
    }
   ],
   "source": [
    "# Q.43:-For the given array, find indices of maximum value in each column.\n",
    "#        arr = np.array([[1,2,3],[4,5,6]])\n",
    "#Ans:-\n",
    "import numpy as np\n",
    "\n",
    "# Define the array\n",
    "arr = np.array([[1, 2, 3],\n",
    "                [4, 5, 6]])\n",
    "\n",
    "# Find the indices of the maximum value in each column\n",
    "indices_of_max = np.argmax(arr, axis=0)\n",
    "\n",
    "print(\"Indices of maximum value in each column:\", indices_of_max)\n"
   ]
  },
  {
   "cell_type": "code",
   "execution_count": 4,
   "id": "d87f19c7-3d8b-4134-b51e-7a778cbb12c5",
   "metadata": {},
   "outputs": [
    {
     "name": "stdout",
     "output_type": "stream",
     "text": [
      "Moving sum along rows:\n",
      " [[ 3  5]\n",
      " [ 9 11]]\n"
     ]
    }
   ],
   "source": [
    "# Q.44:- For the given array,apply custom function to calculate moving sum along rows.\n",
    "#             arr = np.array([[1,2,3],[4,5,6]])\n",
    "#Ans:-\n",
    "import numpy as np\n",
    "\n",
    "def moving_sum(arr, window_size):\n",
    "    \"\"\"\n",
    "    Compute the moving sum along rows for a given window size.\n",
    "    \n",
    "    Parameters:\n",
    "    arr (numpy.ndarray): 2D array on which moving sum is computed.\n",
    "    window_size (int): Size of the moving window.\n",
    "    \n",
    "    Returns:\n",
    "    numpy.ndarray: Array with moving sums along rows.\n",
    "    \"\"\"\n",
    "    num_rows, num_cols = arr.shape\n",
    "    if window_size > num_cols:\n",
    "        raise ValueError(\"Window size must be less than or equal to the number of columns\")\n",
    "    \n",
    "    # Initialize the result array\n",
    "    result = np.zeros((num_rows, num_cols - window_size + 1), dtype=int)\n",
    "    \n",
    "    # Compute the moving sum for each row\n",
    "    for i in range(num_rows):\n",
    "        for j in range(num_cols - window_size + 1):\n",
    "            result[i, j] = np.sum(arr[i, j:j + window_size])\n",
    "    \n",
    "    return result\n",
    "\n",
    "# Define the array\n",
    "arr = np.array([[1, 2, 3],\n",
    "                [4, 5, 6]])\n",
    "\n",
    "# Apply the custom function with a window size of 2\n",
    "window_size = 2\n",
    "moving_sum_result = moving_sum(arr, window_size)\n",
    "\n",
    "print(\"Moving sum along rows:\\n\", moving_sum_result)\n"
   ]
  },
  {
   "cell_type": "code",
   "execution_count": 5,
   "id": "122611ff-06cd-4894-b195-76ee3f5f6356",
   "metadata": {},
   "outputs": [
    {
     "name": "stdout",
     "output_type": "stream",
     "text": [
      "All elements in each column are even: [False False False]\n"
     ]
    }
   ],
   "source": [
    "# Q.45:- In the given array,check if all elements in each column are even.\n",
    "#          arr = np.array([[2,4,6],[3,5,7]])\n",
    "# Ans:-\n",
    "import numpy as np\n",
    "\n",
    "# Define the array\n",
    "arr = np.array([[2, 4, 6],\n",
    "                [3, 5, 7]])\n",
    "\n",
    "# Check if all elements in each column are even\n",
    "all_even_columns = np.all(arr % 2 == 0, axis=0)\n",
    "\n",
    "print(\"All elements in each column are even:\", all_even_columns)\n"
   ]
  },
  {
   "cell_type": "code",
   "execution_count": 6,
   "id": "d79d5a3b-366f-4825-b772-a062bf5c6431",
   "metadata": {},
   "outputs": [
    {
     "name": "stdout",
     "output_type": "stream",
     "text": [
      "Reshaped matrix:\n",
      " [[1 2 3]\n",
      " [4 5 6]]\n"
     ]
    }
   ],
   "source": [
    "# Q.46:- Given a Numpy array arr,reshape it into a matrix of dimensions 'm' rows and 'n' columns. Return the reshaped matrix.\n",
    "#         original_array = np.array([1,2,3,4,5,6])\n",
    "# Ans:-\n",
    "import numpy as np\n",
    "\n",
    "# Define the original array\n",
    "original_array = np.array([1, 2, 3, 4, 5, 6])\n",
    "\n",
    "# Define the desired dimensions\n",
    "m = 2  # Number of rows\n",
    "n = 3  # Number of columns\n",
    "\n",
    "# Reshape the array\n",
    "reshaped_matrix = original_array.reshape(m, n)\n",
    "\n",
    "print(\"Reshaped matrix:\\n\", reshaped_matrix)\n"
   ]
  },
  {
   "cell_type": "code",
   "execution_count": 8,
   "id": "7d36d951-707f-4ddd-b04b-829aa9cc60c0",
   "metadata": {},
   "outputs": [
    {
     "name": "stdout",
     "output_type": "stream",
     "text": [
      "Flattened array: [1 2 3 4 5 6]\n"
     ]
    }
   ],
   "source": [
    "# Q.47:- Create a function that takes a matrix as input and returns the flattened array.\n",
    "#        input_matrix = np.array([[1,2,3],[4,5,6]])\n",
    "# Ans:-\n",
    "import numpy as np\n",
    "\n",
    "def flatten_matrix(matrix):\n",
    "    \"\"\"\n",
    "    Flattens a 2D NumPy array into a 1D array.\n",
    "    \n",
    "    Parameters:\n",
    "    matrix (numpy.ndarray): The 2D array to be flattened.\n",
    "    \n",
    "    Returns:\n",
    "    numpy.ndarray: The flattened 1D array.\n",
    "    \"\"\"\n",
    "    # Flatten the matrix\n",
    "    flattened_array = matrix.flatten()\n",
    "    return flattened_array\n",
    "\n",
    "# Define the input matrix\n",
    "input_matrix = np.array([[1, 2, 3],\n",
    "                         [4, 5, 6]])\n",
    "\n",
    "# Call the function and print the result\n",
    "flattened_result = flatten_matrix(input_matrix)\n",
    "print(\"Flattened array:\", flattened_result)\n"
   ]
  },
  {
   "cell_type": "code",
   "execution_count": 9,
   "id": "e3b411cf-c3a0-435a-9a8c-baa8d0e860a1",
   "metadata": {},
   "outputs": [
    {
     "name": "stdout",
     "output_type": "stream",
     "text": [
      "Concatenated array:\n",
      " [[1 2]\n",
      " [3 4]\n",
      " [5 6]\n",
      " [7 8]]\n"
     ]
    }
   ],
   "source": [
    "# Q.48:- Write a function that concatenates two given arrays along a specified axis.\n",
    "#         array1  = np.array([[1,2],[3,4]])\n",
    "#          array2 = np.array([[5,6],[7,8]])\n",
    "#Ans:-\n",
    "import numpy as np\n",
    "\n",
    "def concatenate_arrays(array1, array2, axis):\n",
    "    \"\"\"\n",
    "    Concatenates two NumPy arrays along a specified axis.\n",
    "    \n",
    "    Parameters:\n",
    "    array1 (numpy.ndarray): The first array to concatenate.\n",
    "    array2 (numpy.ndarray): The second array to concatenate.\n",
    "    axis (int): The axis along which to concatenate the arrays.\n",
    "    \n",
    "    Returns:\n",
    "    numpy.ndarray: The concatenated array.\n",
    "    \"\"\"\n",
    "    # Concatenate the arrays along the specified axis\n",
    "    concatenated_array = np.concatenate((array1, array2), axis=axis)\n",
    "    return concatenated_array\n",
    "\n",
    "# Define the input arrays\n",
    "array1 = np.array([[1, 2],\n",
    "                   [3, 4]])\n",
    "array2 = np.array([[5, 6],\n",
    "                   [7, 8]])\n",
    "\n",
    "# Specify the axis for concatenation\n",
    "axis = 0  # Change to 1 for column-wise concatenation\n",
    "\n",
    "# Call the function and print the result\n",
    "result = concatenate_arrays(array1, array2, axis)\n",
    "print(\"Concatenated array:\\n\", result)\n"
   ]
  },
  {
   "cell_type": "code",
   "execution_count": 10,
   "id": "0c5d9b1e-c034-4d9a-8f51-b38d3ce69604",
   "metadata": {},
   "outputs": [
    {
     "name": "stdout",
     "output_type": "stream",
     "text": [
      "Sub-array 0:\n",
      "[[1]\n",
      " [4]\n",
      " [7]]\n",
      "\n",
      "Sub-array 1:\n",
      "[[2]\n",
      " [5]\n",
      " [8]]\n",
      "\n",
      "Sub-array 2:\n",
      "[[3]\n",
      " [6]\n",
      " [9]]\n",
      "\n"
     ]
    }
   ],
   "source": [
    "# Q.49:- Create a function that splits an array into multiple sub-arrays along a specified axis.\n",
    "#         Original_array = np.array([[1,2,3],[4,5,6],[7,8,9]])\n",
    "# Ans:-\n",
    "import numpy as np\n",
    "\n",
    "def split_array(array, num_splits, axis):\n",
    "    \"\"\"\n",
    "    Splits a NumPy array into multiple sub-arrays along a specified axis.\n",
    "    \n",
    "    Parameters:\n",
    "    array (numpy.ndarray): The array to be split.\n",
    "    num_splits (int): The number of splits along the specified axis.\n",
    "    axis (int): The axis along which to split the array.\n",
    "    \n",
    "    Returns:\n",
    "    list of numpy.ndarray: The list of sub-arrays obtained from splitting the original array.\n",
    "    \"\"\"\n",
    "    # Calculate the indices where the array should be split\n",
    "    split_indices = np.array_split(array, num_splits, axis=axis)\n",
    "    return split_indices\n",
    "\n",
    "# Define the original array\n",
    "original_array = np.array([[1, 2, 3],\n",
    "                           [4, 5, 6],\n",
    "                           [7, 8, 9]])\n",
    "\n",
    "# Specify the number of splits and the axis for splitting\n",
    "num_splits = 3  # Number of splits along the specified axis\n",
    "axis = 1        # Axis along which to split (0 for rows, 1 for columns)\n",
    "\n",
    "# Call the function and print the result\n",
    "split_result = split_array(original_array, num_splits, axis)\n",
    "for i, sub_array in enumerate(split_result):\n",
    "    print(f\"Sub-array {i}:\\n{sub_array}\\n\")\n"
   ]
  },
  {
   "cell_type": "code",
   "execution_count": 12,
   "id": "d340bb50-39a9-4113-8da0-d6d3c1dfa144",
   "metadata": {},
   "outputs": [
    {
     "name": "stdout",
     "output_type": "stream",
     "text": [
      "Modified array: [ 1 10  4 11  5]\n"
     ]
    }
   ],
   "source": [
    "# Q.50:- Write a function that inserts and then deletes elements from a given array at specified indices.\n",
    "#         Original_array = np.array([1,2,3,4,5])\n",
    " #          indices_to_insert = [2,4]\n",
    "  #          values_to_insert = [10,11]\n",
    "   #        indices_to_delete = [1,3]\n",
    "    #Ans:-\n",
    "import numpy as np\n",
    "\n",
    "def modify_array(array, indices_to_insert, values_to_insert, indices_to_delete):\n",
    "    \"\"\"\n",
    "    Inserts values into a NumPy array at specified indices and then deletes elements at specified indices.\n",
    "    \n",
    "    Parameters:\n",
    "    array (numpy.ndarray): The original array.\n",
    "    indices_to_insert (list of int): The indices at which to insert new values.\n",
    "    values_to_insert (list of int): The values to be inserted.\n",
    "    indices_to_delete (list of int): The indices of elements to be deleted.\n",
    "    \n",
    "    Returns:\n",
    "    numpy.ndarray: The modified array after insertion and deletion.\n",
    "    \"\"\"\n",
    "    # Insert values into the array\n",
    "    modified_array = np.insert(array, indices_to_insert, values_to_insert)\n",
    "    \n",
    "    # Delete specified indices from the modified array\n",
    "    modified_array = np.delete(modified_array, indices_to_delete)\n",
    "    \n",
    "    return modified_array\n",
    "\n",
    "# Define the original array\n",
    "original_array = np.array([1, 2, 3, 4, 5])\n",
    "\n",
    "# Specify indices and values for insertion and deletion\n",
    "indices_to_insert = [2, 4]\n",
    "values_to_insert = [10, 11]\n",
    "indices_to_delete = [1, 3]\n",
    "\n",
    "# Call the function and print the result\n",
    "result = modify_array(original_array, indices_to_insert, values_to_insert, indices_to_delete)\n",
    "print(\"Modified array:\", result)\n"
   ]
  },
  {
   "cell_type": "code",
   "execution_count": 14,
   "id": "caa4040a-b7e1-43f0-b750-22b6b625fb72",
   "metadata": {},
   "outputs": [
    {
     "name": "stdout",
     "output_type": "stream",
     "text": [
      "arr1:\n",
      " [[9 5 4 9 1]\n",
      " [2 3 8 5 6]]\n",
      "arr2:\n",
      " [[1 2 3 4 5]\n",
      " [1 2 3 4 5]]\n",
      "Element-wise addition result:\n",
      " [[10  7  7 13  6]\n",
      " [ 3  5 11  9 11]]\n"
     ]
    }
   ],
   "source": [
    "# Q.51:- Create a Numpy array 'arr1' with random intergers and another arrray 'arr2' with intergers from 1 to 10. Perform element-wise addition between 'arr1' and 'arr2'.\n",
    "# Ans:-\n",
    "import numpy as np\n",
    "\n",
    "# Create arr1 with random integers (e.g., 2x5 matrix with values between 0 and 9)\n",
    "arr1 = np.random.randint(0, 10, size=(2, 5))\n",
    "\n",
    "# Create arr2 with integers from 1 to 10 (reshaped to be compatible with arr1)\n",
    "arr2 = np.arange(1, 6)  # 1D array with values [1, 2, 3, 4, 5]\n",
    "\n",
    "# Ensure arr2 has the same shape as arr1 for element-wise addition\n",
    "arr2 = np.tile(arr2, (2, 1))  # Tile arr2 to match the shape of arr1\n",
    "\n",
    "# Perform element-wise addition\n",
    "result = arr1 + arr2\n",
    "\n",
    "print(\"arr1:\\n\", arr1)\n",
    "print(\"arr2:\\n\", arr2)\n",
    "print(\"Element-wise addition result:\\n\", result)\n"
   ]
  },
  {
   "cell_type": "code",
   "execution_count": 15,
   "id": "a2f424aa-8608-461c-99c6-940a0210f1f7",
   "metadata": {},
   "outputs": [
    {
     "name": "stdout",
     "output_type": "stream",
     "text": [
      "arr1: [10  9  8  7  6  5  4  3  2  1]\n",
      "arr2: [ 1  2  3  4  5  6  7  8  9 10]\n",
      "Element-wise subtraction result: [ 9  7  5  3  1 -1 -3 -5 -7 -9]\n"
     ]
    }
   ],
   "source": [
    "# Q.52:-Generate a Numpy array 'arr1' with sequential integerrs from 10 to 1 and another array 'arr2' with integers from 1 to 10. Subtract 'arr2'from 'arr1' element-wise.\n",
    "# Ans:-\n",
    "import numpy as np\n",
    "\n",
    "# Create arr1 with sequential integers from 10 to 1\n",
    "arr1 = np.arange(10, 0, -1)  # [10, 9, 8, 7, 6, 5, 4, 3, 2, 1]\n",
    "\n",
    "# Create arr2 with integers from 1 to 10\n",
    "arr2 = np.arange(1, 11)      # [1, 2, 3, 4, 5, 6, 7, 8, 9, 10]\n",
    "\n",
    "# Perform element-wise subtraction\n",
    "result = arr1 - arr2\n",
    "\n",
    "print(\"arr1:\", arr1)\n",
    "print(\"arr2:\", arr2)\n",
    "print(\"Element-wise subtraction result:\", result)\n"
   ]
  },
  {
   "cell_type": "code",
   "execution_count": 16,
   "id": "6b522de6-c16b-4e8b-b218-074be0502d58",
   "metadata": {},
   "outputs": [
    {
     "name": "stdout",
     "output_type": "stream",
     "text": [
      "arr1:\n",
      " [[8 9 3 8 3]\n",
      " [3 1 6 3 9]]\n",
      "arr2:\n",
      " [[1 2 3 4 5]\n",
      " [1 2 3 4 5]]\n",
      "Element-wise multiplication result:\n",
      " [[ 8 18  9 32 15]\n",
      " [ 3  2 18 12 45]]\n"
     ]
    }
   ],
   "source": [
    "# Q.53:-Create a NumPy array 'arr1' with random integers and another array 'arr2' with integers from 1 to 5.Perform element-wise multiplication between 'arr1' and 'arr2'.\n",
    "# Ans:-\n",
    "import numpy as np\n",
    "\n",
    "# Create arr1 with random integers (e.g., 2x5 matrix with values between 1 and 10)\n",
    "arr1 = np.random.randint(1, 10, size=(2, 5))\n",
    "\n",
    "# Create arr2 with integers from 1 to 5 (reshaped to be compatible with arr1)\n",
    "arr2 = np.arange(1, 6)  # 1D array with values [1, 2, 3, 4, 5]\n",
    "\n",
    "# Ensure arr2 has the same shape as arr1 for element-wise multiplication\n",
    "arr2 = np.tile(arr2, (2, 1))  # Tile arr2 to match the shape of arr1\n",
    "\n",
    "# Perform element-wise multiplication\n",
    "result = arr1 * arr2\n",
    "\n",
    "print(\"arr1:\\n\", arr1)\n",
    "print(\"arr2:\\n\", arr2)\n",
    "print(\"Element-wise multiplication result:\\n\", result)\n"
   ]
  },
  {
   "cell_type": "code",
   "execution_count": 17,
   "id": "94383bb3-ab0f-47d1-af94-783aa8c47a4a",
   "metadata": {},
   "outputs": [
    {
     "name": "stdout",
     "output_type": "stream",
     "text": [
      "arr1:\n",
      " [[ 2  4  6  8 10]\n",
      " [ 2  4  6  8 10]\n",
      " [ 2  4  6  8 10]\n",
      " [ 2  4  6  8 10]\n",
      " [ 2  4  6  8 10]]\n",
      "arr2:\n",
      " [[1 2 3 4 5]\n",
      " [1 2 3 4 5]\n",
      " [1 2 3 4 5]\n",
      " [1 2 3 4 5]\n",
      " [1 2 3 4 5]]\n",
      "Element-wise division result:\n",
      " [[2. 2. 2. 2. 2.]\n",
      " [2. 2. 2. 2. 2.]\n",
      " [2. 2. 2. 2. 2.]\n",
      " [2. 2. 2. 2. 2.]\n",
      " [2. 2. 2. 2. 2.]]\n"
     ]
    }
   ],
   "source": [
    "# Q.54:- Generate a NumPy array 'arr1' with even integers from 2 to 10 and another array 'arr2' with intergers from 1 to 5. perform element-wise division of 'arr1' by 'arr2'.\n",
    "# Ans:-\n",
    "import numpy as np\n",
    "\n",
    "# Create arr1 with even integers from 2 to 10\n",
    "arr1 = np.arange(2, 11, 2)  # [2, 4, 6, 8, 10]\n",
    "\n",
    "# Create arr2 with integers from 1 to 5\n",
    "arr2 = np.arange(1, 6)     # [1, 2, 3, 4, 5]\n",
    "\n",
    "# Ensure arr1 and arr2 have the same shape for element-wise division\n",
    "# If needed, reshape or tile arrays to ensure they are compatible for broadcasting\n",
    "arr1 = np.tile(arr1, (5, 1))  # Create a 5x5 matrix by repeating arr1\n",
    "arr2 = np.tile(arr2, (5, 1))  # Create a 5x5 matrix by repeating arr2\n",
    "\n",
    "# Perform element-wise division\n",
    "result = arr1 / arr2\n",
    "\n",
    "print(\"arr1:\\n\", arr1)\n",
    "print(\"arr2:\\n\", arr2)\n",
    "print(\"Element-wise division result:\\n\", result)\n"
   ]
  },
  {
   "cell_type": "code",
   "execution_count": 18,
   "id": "810299e8-b256-49d4-915e-295a6c7d0c77",
   "metadata": {},
   "outputs": [
    {
     "name": "stdout",
     "output_type": "stream",
     "text": [
      "arr1: [1 2 3 4 5]\n",
      "arr2: [5 4 3 2 1]\n",
      "Element-wise exponentiation result: [ 1 16 27 16  5]\n"
     ]
    }
   ],
   "source": [
    "# Q.55:- Create a NumPy array 'arr1' with integers from 1 to 5 and another array 'arr2' with the same numbers reveresd. Calculate the exponenntiation of 'arr1' raised to the power of 'arr2'element-wise.\n",
    "# Ans:-\n",
    "import numpy as np\n",
    "\n",
    "# Create arr1 with integers from 1 to 5\n",
    "arr1 = np.arange(1, 6)  # [1, 2, 3, 4, 5]\n",
    "\n",
    "# Create arr2 with integers from 5 to 1 (reversed order)\n",
    "arr2 = arr1[::-1]  # [5, 4, 3, 2, 1]\n",
    "\n",
    "# Perform element-wise exponentiation\n",
    "result = arr1 ** arr2\n",
    "\n",
    "print(\"arr1:\", arr1)\n",
    "print(\"arr2:\", arr2)\n",
    "print(\"Element-wise exponentiation result:\", result)\n"
   ]
  },
  {
   "cell_type": "code",
   "execution_count": 19,
   "id": "6e92671b-2964-4277-80b7-05eddb39ca69",
   "metadata": {},
   "outputs": [
    {
     "name": "stdout",
     "output_type": "stream",
     "text": [
      "Occurrences of 'hello': 3\n"
     ]
    }
   ],
   "source": [
    "# Q.56:- Write a function that counts the occurrences of a specific substring within a NumPy array of strings.\n",
    "#        arr = np.array(['hello','world','hello', 'numpy','hello'])\n",
    "# Ans:-import numpy as np\n",
    "\n",
    "def count_substring_occurrences(arr, substring):\n",
    "    # Use np.char.find to find the substring within each element of the array\n",
    "    occurrences = np.char.find(arr, substring)\n",
    "    # Count how many times the substring is found (i.e., not -1)\n",
    "    count = np.sum(occurrences != -1)\n",
    "    return count\n",
    "\n",
    "# Example usage\n",
    "arr = np.array(['hello', 'world', 'hello', 'numpy', 'hello'])\n",
    "substring = 'hello'\n",
    "result = count_substring_occurrences(arr, substring)\n",
    "\n",
    "print(f\"Occurrences of '{substring}':\", result)\n"
   ]
  },
  {
   "cell_type": "code",
   "execution_count": 20,
   "id": "2f22ddc9-5980-4d73-b1ec-7d936c576f20",
   "metadata": {},
   "outputs": [
    {
     "name": "stdout",
     "output_type": "stream",
     "text": [
      "Extracted uppercase characters: ['H' 'W' 'O' 'A' 'I' 'G' 'P' 'T']\n"
     ]
    }
   ],
   "source": [
    "# Q.57:- Write a function that extracts uppercase characters from a NumPy array of strings.\n",
    "#            arr = np.array(['hello','world','openAI, 'GPT'])\n",
    "#       arr = np.array(['Hello','World','OpenAI','GPT'])\n",
    "# Ans:-\n",
    "import numpy as np\n",
    "\n",
    "def extract_uppercase(arr):\n",
    "    # Create an empty list to hold the uppercase characters\n",
    "    uppercase_chars = []\n",
    "\n",
    "    # Iterate over each string in the array\n",
    "    for string in arr:\n",
    "        # Extract uppercase characters using a list comprehension\n",
    "        uppercase_chars.extend([char for char in string if char.isupper()])\n",
    "\n",
    "    # Convert the list to a NumPy array and return\n",
    "    return np.array(uppercase_chars)\n",
    "\n",
    "# Example usage\n",
    "arr = np.array(['Hello', 'World', 'OpenAI', 'GPT'])\n",
    "result = extract_uppercase(arr)\n",
    "\n",
    "print(\"Extracted uppercase characters:\", result)\n"
   ]
  },
  {
   "cell_type": "code",
   "execution_count": 21,
   "id": "1fe6e779-95c4-4989-a8df-f715105c4aff",
   "metadata": {},
   "outputs": [
    {
     "name": "stdout",
     "output_type": "stream",
     "text": [
      "Original array: ['apple' 'banana' 'grape' 'pineapple']\n",
      "Array after replacement: ['fruit' 'banana' 'grape' 'pinefruit']\n"
     ]
    }
   ],
   "source": [
    "# Q.58:- Write a function that replaces occurrences of a substring in a NumPy array of strings with a new string.\n",
    "    #      arr = np.array(['apple','banana','grape',pineapple'])\n",
    "    \n",
    "#Ans:-\n",
    "import numpy as np\n",
    "\n",
    "def replace_substring(arr, old_substring, new_substring):\n",
    "    # Use np.char.replace to replace occurrences of old_substring with new_substring\n",
    "    replaced_array = np.char.replace(arr, old_substring, new_substring)\n",
    "    return replaced_array\n",
    "\n",
    "# Example usage\n",
    "arr = np.array(['apple', 'banana', 'grape', 'pineapple'])\n",
    "old_substring = 'apple'\n",
    "new_substring = 'fruit'\n",
    "result = replace_substring(arr, old_substring, new_substring)\n",
    "\n",
    "print(\"Original array:\", arr)\n",
    "print(\"Array after replacement:\", result)\n"
   ]
  },
  {
   "cell_type": "code",
   "execution_count": 22,
   "id": "1a1731ec-0b3a-4389-ad2c-81a9d58ba747",
   "metadata": {},
   "outputs": [
    {
     "name": "stdout",
     "output_type": "stream",
     "text": [
      "Length of the longest string: 9\n"
     ]
    }
   ],
   "source": [
    "# Q.59:- Write a function that finds the length of the longest string in a NumPy array.\n",
    "#         arr=np.array(['apple','banana','grape','pineapple'])\n",
    "# Ans:-\n",
    "import numpy as np\n",
    "\n",
    "def length_of_longest_string(arr):\n",
    "    # Get the length of each string in the array\n",
    "    lengths = np.char.str_len(arr)\n",
    "    # Find the maximum length\n",
    "    max_length = np.max(lengths)\n",
    "    return max_length\n",
    "\n",
    "# Example usage\n",
    "arr = np.array(['apple', 'banana', 'grape', 'pineapple'])\n",
    "result = length_of_longest_string(arr)\n",
    "\n",
    "print(\"Length of the longest string:\", result)\n"
   ]
  },
  {
   "cell_type": "code",
   "execution_count": 23,
   "id": "bd6a9775-fb2d-446a-b746-d9815a513755",
   "metadata": {},
   "outputs": [
    {
     "name": "stdout",
     "output_type": "stream",
     "text": [
      "Concatenated array: ['HelloOpen' 'worldAI']\n"
     ]
    }
   ],
   "source": [
    "# 60:- Write a function that concatenates strings in a NumPy array element-wise.\n",
    "#        arr1 = np.array(['Hello','world'])\n",
    "#        arr2 = np.array(['Open','AI'])\n",
    "#Ans:-\n",
    "import numpy as np\n",
    "\n",
    "def concatenate_strings_elementwise(arr1, arr2):\n",
    "    # Use np.char.add to concatenate strings element-wise\n",
    "    concatenated_array = np.char.add(arr1, arr2)\n",
    "    return concatenated_array\n",
    "\n",
    "# Example usage\n",
    "arr1 = np.array(['Hello', 'world'])\n",
    "arr2 = np.array(['Open', 'AI'])\n",
    "result = concatenate_strings_elementwise(arr1, arr2)\n",
    "\n",
    "print(\"Concatenated array:\", result)\n"
   ]
  },
  {
   "cell_type": "code",
   "execution_count": 24,
   "id": "cc39685d-efd0-4519-85c5-5f8addf59369",
   "metadata": {},
   "outputs": [
    {
     "name": "stdout",
     "output_type": "stream",
     "text": [
      "Dataset: [ 685  560  630  193  836  764  708  360   10  724  278  755  805  600\n",
      "   71  473  601  397  315  706  487  552   88  175  601  850  678  538\n",
      "  846   73  778  917  116  977  756  710  848  432  449  851  100  985\n",
      "  178  756  798  660  148  911  424  289  962  266  698  640  545  544\n",
      "  715  245  152  676  511  460  883  184   29  803  129  129  933   54\n",
      "  902  551  489  757  274  336  389  618   43  443  544  889  258  322\n",
      " 1000  938   58  292  871  120  780  431   83   92  897  399  612  566\n",
      "  909  634]\n",
      "Mean: 524.97\n",
      "Median: 551.5\n",
      "Variance: 82414.08910000001\n",
      "Standard Deviation: 287.07854169199067\n"
     ]
    }
   ],
   "source": [
    "# Q.61:- Create a dataset of 100 random integers between 1 and 1000. Compute the mean,median,variance, and standard deviation of the dataset using NumPy's functions.\n",
    "# Ans:-\n",
    "import numpy as np\n",
    "\n",
    "# Step 1: Generate the dataset\n",
    "np.random.seed(0)  # For reproducibility\n",
    "dataset = np.random.randint(1, 1001, size=100)\n",
    "\n",
    "# Step 2: Compute statistical measures\n",
    "mean = np.mean(dataset)\n",
    "median = np.median(dataset)\n",
    "variance = np.var(dataset)\n",
    "std_deviation = np.std(dataset)\n",
    "\n",
    "print(\"Dataset:\", dataset)\n",
    "print(\"Mean:\", mean)\n",
    "print(\"Median:\", median)\n",
    "print(\"Variance:\", variance)\n",
    "print(\"Standard Deviation:\", std_deviation)\n"
   ]
  },
  {
   "cell_type": "code",
   "execution_count": 25,
   "id": "82a5778a-2ce6-4687-8ffb-19fd91b45039",
   "metadata": {},
   "outputs": [
    {
     "name": "stdout",
     "output_type": "stream",
     "text": [
      "Dataset: [ 45  48  65  68  68  10  84  22  37  88  71  89  89  13  59  66  40  88\n",
      "  47  89  82  38  26  78  73  10  21  81  70  80  48  65  83 100  89  50\n",
      "  30  20  20  15  40  33  66  10  58  33  32  75  24  36]\n",
      "25th Percentile: 32.25\n",
      "75th Percentile: 77.25\n"
     ]
    }
   ],
   "source": [
    "# 62:- Generate an array of 50 random numbers between 1 and 100.Find the 25th and 75th percentiles of the dataset.\n",
    "# Ans:-\n",
    "import numpy as np\n",
    "\n",
    "# Step 1: Generate the dataset\n",
    "np.random.seed(0)  # For reproducibility\n",
    "data = np.random.randint(1, 101, size=50)\n",
    "\n",
    "# Step 2: Calculate the 25th and 75th percentiles\n",
    "percentile_25 = np.percentile(data, 25)\n",
    "percentile_75 = np.percentile(data, 75)\n",
    "\n",
    "print(\"Dataset:\", data)\n",
    "print(\"25th Percentile:\", percentile_25)\n",
    "print(\"75th Percentile:\", percentile_75)\n"
   ]
  },
  {
   "cell_type": "code",
   "execution_count": 26,
   "id": "7eff086a-7f4f-47e5-b70f-dade305af7d9",
   "metadata": {},
   "outputs": [
    {
     "name": "stdout",
     "output_type": "stream",
     "text": [
      "Correlation Matrix:\n",
      " [[1. 1.]\n",
      " [1. 1.]]\n",
      "Correlation Coefficient between array1 and array2: 1.0\n"
     ]
    }
   ],
   "source": [
    "# 63:- Create two arrays representing two sets of variables. Compute the correlation coefficient between these arrays using NumPy,s \"corrcoef\" function.\n",
    "# Ans:-\n",
    "import numpy as np\n",
    "\n",
    "# Step 1: Create two arrays\n",
    "array1 = np.array([10, 20, 30, 40, 50])\n",
    "array2 = np.array([1, 2, 3, 4, 5])\n",
    "\n",
    "# Step 2: Compute the correlation coefficient\n",
    "correlation_matrix = np.corrcoef(array1, array2)\n",
    "correlation_coefficient = correlation_matrix[0, 1]\n",
    "\n",
    "print(\"Correlation Matrix:\\n\", correlation_matrix)\n",
    "print(\"Correlation Coefficient between array1 and array2:\", correlation_coefficient)\n"
   ]
  },
  {
   "cell_type": "code",
   "execution_count": 27,
   "id": "90024a0c-930d-4c8d-942f-7f743936717c",
   "metadata": {},
   "outputs": [
    {
     "name": "stdout",
     "output_type": "stream",
     "text": [
      "Matrix 1:\n",
      " [[1 2 3]\n",
      " [4 5 6]]\n",
      "Matrix 2:\n",
      " [[ 7  8]\n",
      " [ 9 10]\n",
      " [11 12]]\n",
      "Matrix Multiplication Result:\n",
      " [[ 58  64]\n",
      " [139 154]]\n"
     ]
    }
   ],
   "source": [
    "# Q.64:- Create two matrices and perform matrix multiplication using NumPy's 'dot' function.\n",
    "# Ans:-\n",
    "import numpy as np\n",
    "\n",
    "# Step 1: Create two matrices\n",
    "matrix1 = np.array([[1, 2, 3], [4, 5, 6]])\n",
    "matrix2 = np.array([[7, 8], [9, 10], [11, 12]])\n",
    "\n",
    "# Step 2: Perform matrix multiplication\n",
    "result = np.dot(matrix1, matrix2)\n",
    "\n",
    "print(\"Matrix 1:\\n\", matrix1)\n",
    "print(\"Matrix 2:\\n\", matrix2)\n",
    "print(\"Matrix Multiplication Result:\\n\", result)\n"
   ]
  },
  {
   "cell_type": "code",
   "execution_count": 28,
   "id": "bd6f1292-ff0f-4d65-ac00-fff0f1cd5d01",
   "metadata": {},
   "outputs": [
    {
     "name": "stdout",
     "output_type": "stream",
     "text": [
      "Array: [694 569 639 202 845 773 717 369  19 733 287 764 814 609  80 482 610 406\n",
      " 324 715 496 561  97 184 610 859 687 547 855  82 787 926 125 986 765 719\n",
      " 857 441 458 860 109 994 187 765 807 669 157 920 433 298]\n",
      "10th Percentile: 123.4\n",
      "50th Percentile (Median): 610.0\n",
      "90th Percentile: 859.1\n",
      "First Quartile (25th Percentile): 335.25\n",
      "Third Quartile (75th Percentile): 771.0\n"
     ]
    }
   ],
   "source": [
    "# Q.65:- Create an array of 50 integers between 10 and 1000. calculate the 10th,50th(median),and 90th percentiles along with the first and third quartiles.\n",
    "#Ans:-\n",
    "import numpy as np\n",
    "\n",
    "# Step 1: Generate the array\n",
    "np.random.seed(0)  # For reproducibility\n",
    "data = np.random.randint(10, 1001, size=50)\n",
    "\n",
    "# Step 2: Calculate percentiles and quartiles\n",
    "percentile_10 = np.percentile(data, 10)\n",
    "percentile_50 = np.percentile(data, 50)  # This is the median\n",
    "percentile_90 = np.percentile(data, 90)\n",
    "first_quartile = np.percentile(data, 25)\n",
    "third_quartile = np.percentile(data, 75)\n",
    "\n",
    "print(\"Array:\", data)\n",
    "print(\"10th Percentile:\", percentile_10)\n",
    "print(\"50th Percentile (Median):\", percentile_50)\n",
    "print(\"90th Percentile:\", percentile_90)\n",
    "print(\"First Quartile (25th Percentile):\", first_quartile)\n",
    "print(\"Third Quartile (75th Percentile):\", third_quartile)\n"
   ]
  },
  {
   "cell_type": "code",
   "execution_count": 3,
   "id": "d637f7ec-3fb0-482c-9c9b-356a9bd9ffe8",
   "metadata": {},
   "outputs": [
    {
     "name": "stdout",
     "output_type": "stream",
     "text": [
      "The index of 30 is 2\n"
     ]
    }
   ],
   "source": [
    "# Q.66:- create a NumPy array of integers and find the index of a specific element.\n",
    "# Ans:-\n",
    "import numpy as np\n",
    "\n",
    "array = np.array([10, 20, 30, 40, 50])\n",
    "\n",
    "\n",
    "element = 30\n",
    "\n",
    "# Find the index of the specific element\n",
    "index = np.where(array == element)[0][0]\n",
    "\n",
    "print(f\"The index of {element} is {index}\")\n"
   ]
  },
  {
   "cell_type": "code",
   "execution_count": null,
   "id": "948e7583-af21-47b3-ad7d-681edc0d8b8f",
   "metadata": {},
   "outputs": [],
   "source": [
    "# Q.67:- Generate a random NumPy array and sort it in ascending order.\n",
    "# Ans:-\n",
    "import numpy as np\n",
    "\n",
    "# Generate a random NumPy array of integers between 0 and 100, with 10 elements\n",
    "random_array = np.random.randint(0, 100, size=10)\n",
    "\n",
    "print(\"Original array:\")\n",
    "print(random_array)\n",
    "\n",
    "# Sort the array in ascending order\n",
    "sorted_array = np.sort(random_array)\n",
    "\n",
    "print(\"\\nSorted array:\")\n",
    "print(sorted_array)\n"
   ]
  },
  {
   "cell_type": "code",
   "execution_count": 4,
   "id": "b960ca2d-e79a-449a-953b-a960ed4f10ce",
   "metadata": {},
   "outputs": [
    {
     "name": "stdout",
     "output_type": "stream",
     "text": [
      "Filtered array (elements > 20):\n",
      "[25 42 30]\n"
     ]
    }
   ],
   "source": [
    "# Q.68:- Filter elements >20 in the given NumPy array.\n",
    "#        arr = np.array([12,25,6,42,8,30])\n",
    "#Ans:-\n",
    "import numpy as np\n",
    "\n",
    "# Given array\n",
    "arr = np.array([12, 25, 6, 42, 8, 30])\n",
    "\n",
    "# Filter elements greater than 20\n",
    "filtered_arr = arr[arr > 20]\n",
    "\n",
    "print(\"Filtered array (elements > 20):\")\n",
    "print(filtered_arr)\n"
   ]
  },
  {
   "cell_type": "code",
   "execution_count": 5,
   "id": "b730afd9-2382-41c7-99d6-9171713c58db",
   "metadata": {},
   "outputs": [
    {
     "name": "stdout",
     "output_type": "stream",
     "text": [
      "Filtered array (elements divisible by 3):\n",
      "[12 15]\n"
     ]
    }
   ],
   "source": [
    "# Q.69:- Filter elemenets which are divisible by 3 from a given NumPy array.\n",
    "#             arr = np.array([1,5,8,12,15])\n",
    "# Ans:-\n",
    "import numpy as np\n",
    "\n",
    "# Given array\n",
    "arr = np.array([1, 5, 8, 12, 15])\n",
    "\n",
    "# Filter elements divisible by 3\n",
    "filtered_arr = arr[arr % 3 == 0]\n",
    "\n",
    "print(\"Filtered array (elements divisible by 3):\")\n",
    "print(filtered_arr)\n"
   ]
  },
  {
   "cell_type": "code",
   "execution_count": 6,
   "id": "b53b76f3-0657-4d92-9c92-4a13f8ef61f1",
   "metadata": {},
   "outputs": [
    {
     "name": "stdout",
     "output_type": "stream",
     "text": [
      "Filtered array (elements >= 20 and <= 40):\n",
      "[20 30 40]\n"
     ]
    }
   ],
   "source": [
    "# Q.70:- Filter elements which are >=20 and <=40 from a given NumPy array.\n",
    "#           arr = np.array([10,20,30,40,50])\n",
    "# Ans:-\n",
    "import numpy as np\n",
    "\n",
    "# Given array\n",
    "arr = np.array([10, 20, 30, 40, 50])\n",
    "\n",
    "# Filter elements >= 20 and <= 40\n",
    "filtered_arr = arr[(arr >= 20) & (arr <= 40)]\n",
    "\n",
    "print(\"Filtered array (elements >= 20 and <= 40):\")\n",
    "print(filtered_arr)\n"
   ]
  },
  {
   "cell_type": "code",
   "execution_count": 7,
   "id": "e52a9724-8a6e-47f1-a2aa-67572da79f6a",
   "metadata": {},
   "outputs": [
    {
     "name": "stdout",
     "output_type": "stream",
     "text": [
      "The byte order of the array is: '='\n"
     ]
    }
   ],
   "source": [
    "#Q.71:- For the given NumPy array,check its byte order using the 'dtype' attribute byteorder.\n",
    "#         arr = np.array([1,2,3])\n",
    "#Ans:-\n",
    "import numpy as np\n",
    "\n",
    "# Given array\n",
    "arr = np.array([1, 2, 3])\n",
    "\n",
    "# Check the byte order\n",
    "byte_order = arr.dtype.byteorder\n",
    "\n",
    "print(f\"The byte order of the array is: '{byte_order}'\")\n"
   ]
  },
  {
   "cell_type": "code",
   "execution_count": 8,
   "id": "3dbaa9d7-1b75-4b65-a678-4fcd86d669c6",
   "metadata": {},
   "outputs": [
    {
     "name": "stdout",
     "output_type": "stream",
     "text": [
      "Original array:\n",
      "[1 2 3]\n",
      "Byte order before swapping: =\n",
      "\n",
      "Array after byte swapping:\n",
      "[16777216 33554432 50331648]\n",
      "Byte order after swapping: =\n"
     ]
    }
   ],
   "source": [
    "# Q.72:-For the given NumPy array,perform byte swapping in place using 'byteswap()'.\n",
    "#                arr = np.array([1,2,3],dtype=np.int32)\n",
    "#Ans:-\n",
    "import numpy as np\n",
    "\n",
    "# Given array with dtype=np.int32\n",
    "arr = np.array([1, 2, 3], dtype=np.int32)\n",
    "\n",
    "print(\"Original array:\")\n",
    "print(arr)\n",
    "print(f\"Byte order before swapping: {arr.dtype.byteorder}\")\n",
    "\n",
    "# Perform byte swapping in place\n",
    "arr.byteswap(True)\n",
    "\n",
    "print(\"\\nArray after byte swapping:\")\n",
    "print(arr)\n",
    "print(f\"Byte order after swapping: {arr.dtype.byteorder}\")\n"
   ]
  },
  {
   "cell_type": "code",
   "execution_count": 9,
   "id": "7fbac879-7b64-40ee-a52c-6f3bde7332f2",
   "metadata": {},
   "outputs": [
    {
     "name": "stdout",
     "output_type": "stream",
     "text": [
      "Original array:\n",
      "[1 2 3]\n",
      "Byte order before swapping: =\n",
      "\n",
      "Array after swapping byte order (without modifying the original array):\n",
      "[1 2 3]\n",
      "Byte order after swapping: >\n",
      "\n",
      "Original array remains unchanged:\n",
      "[1 2 3]\n"
     ]
    }
   ],
   "source": [
    "# Q.73:-For the given NumPy array,swap its byte order without modifying the original array using 'newbyteorder()'.\n",
    "#                arr = np.array([1,2,3],dtype=np.int32)\n",
    "#Ans:-\n",
    "import numpy as np\n",
    "\n",
    "# Given array with dtype=np.int32\n",
    "arr = np.array([1, 2, 3], dtype=np.int32)\n",
    "\n",
    "print(\"Original array:\")\n",
    "print(arr)\n",
    "print(f\"Byte order before swapping: {arr.dtype.byteorder}\")\n",
    "\n",
    "# Swap byte order without modifying the original array\n",
    "swapped_arr = arr.byteswap().newbyteorder()\n",
    "\n",
    "print(\"\\nArray after swapping byte order (without modifying the original array):\")\n",
    "print(swapped_arr)\n",
    "print(f\"Byte order after swapping: {swapped_arr.dtype.byteorder}\")\n",
    "\n",
    "print(\"\\nOriginal array remains unchanged:\")\n",
    "print(arr)\n"
   ]
  },
  {
   "cell_type": "code",
   "execution_count": 10,
   "id": "5304450a-6824-4637-948a-e19079eda507",
   "metadata": {},
   "outputs": [
    {
     "name": "stdout",
     "output_type": "stream",
     "text": [
      "Original array:\n",
      "[1 2 3]\n",
      "Byte order before swapping: =\n",
      "\n",
      "Array after conditional byte order swapping:\n",
      "[1 2 3]\n",
      "Byte order after conditional swapping: >\n"
     ]
    }
   ],
   "source": [
    "#Q.74:- For the given NumPy array and swap its byte order conditionally based on system endianness using 'newbyteorder()'.\n",
    "#          arr = np.array([1,2,3] , dtype = np.int32)\n",
    "# Ans:-\n",
    "import numpy as np\n",
    "\n",
    "# Given array with dtype=np.int32\n",
    "arr = np.array([1, 2, 3], dtype=np.int32)\n",
    "\n",
    "print(\"Original array:\")\n",
    "print(arr)\n",
    "print(f\"Byte order before swapping: {arr.dtype.byteorder}\")\n",
    "\n",
    "# Determine system endianness and conditionally swap byte order\n",
    "if arr.dtype.byteorder == '=':  # Native byte order\n",
    "    swapped_arr = arr.byteswap().newbyteorder()\n",
    "else:\n",
    "    swapped_arr = arr\n",
    "\n",
    "print(\"\\nArray after conditional byte order swapping:\")\n",
    "print(swapped_arr)\n",
    "print(f\"Byte order after conditional swapping: {swapped_arr.dtype.byteorder}\")\n"
   ]
  },
  {
   "cell_type": "code",
   "execution_count": 11,
   "id": "85db9a06-ac86-4cea-a8f3-bc9c28fe4a1c",
   "metadata": {},
   "outputs": [
    {
     "name": "stdout",
     "output_type": "stream",
     "text": [
      "Byte swapping is not necessary; the array is already in the system's native byte order.\n"
     ]
    }
   ],
   "source": [
    "# Q.75:- For the given NumPy array,check if byte swapping is necessary for the current system using 'dtype'attribute 'byteorder'.\n",
    "#         arr = np.array([1,2,3] , dtype = np.int32.\n",
    "#Ans:-\n",
    "import numpy as np\n",
    "\n",
    "# Given array with dtype=np.int32\n",
    "arr = np.array([1, 2, 3], dtype=np.int32)\n",
    "\n",
    "# Check the byte order\n",
    "byte_order = arr.dtype.byteorder\n",
    "\n",
    "# Determine if byte swapping is necessary\n",
    "if byte_order == '=':\n",
    "    print(\"Byte swapping is not necessary; the array is already in the system's native byte order.\")\n",
    "elif byte_order == '<':\n",
    "    print(\"The array is in little-endian format.\")\n",
    "elif byte_order == '>':\n",
    "    print(\"The array is in big-endian format.\")\n",
    "else:\n",
    "    print(\"Byte swapping is not applicable (e.g., for non-numeric types).\")\n"
   ]
  },
  {
   "cell_type": "code",
   "execution_count": 12,
   "id": "e533f0aa-d603-4e25-99b6-f54ac9f3ad5d",
   "metadata": {},
   "outputs": [
    {
     "name": "stdout",
     "output_type": "stream",
     "text": [
      "Original array (arr1):\n",
      "[ 1  2  3  4  5  6  7  8  9 10]\n",
      "\n",
      "Modified copy (copy_arr1):\n",
      "[99  2  3  4  5  6  7  8  9 10]\n",
      "\n",
      "Modifying 'copy_arr1' did not affect 'arr1'.\n"
     ]
    }
   ],
   "source": [
    "# Q.76:- Create a NumPy array 'arr1' with values from 1 to 10. create a copy of 'arr1'named 'copy_arr1' and modify an element in 'copy_arr'.Check if modifying 'copy_arr' affects 'arr1'.\n",
    "# Ans:-\n",
    "import numpy as np\n",
    "\n",
    "# Create a NumPy array 'arr1' with values from 1 to 10\n",
    "arr1 = np.arange(1, 11)\n",
    "\n",
    "# Create a copy of 'arr1' named 'copy_arr1'\n",
    "copy_arr1 = arr1.copy()\n",
    "\n",
    "# Modify an element in 'copy_arr1'\n",
    "copy_arr1[0] = 99  # For example, change the first element to 99\n",
    "\n",
    "# Check if modifying 'copy_arr1' affects 'arr1'\n",
    "print(\"Original array (arr1):\")\n",
    "print(arr1)\n",
    "\n",
    "print(\"\\nModified copy (copy_arr1):\")\n",
    "print(copy_arr1)\n",
    "\n",
    "# Determine if 'arr1' has been affected\n",
    "if np.array_equal(arr1, copy_arr1):\n",
    "    print(\"\\nModifying 'copy_arr1' did affect 'arr1'.\")\n",
    "else:\n",
    "    print(\"\\nModifying 'copy_arr1' did not affect 'arr1'.\")\n"
   ]
  },
  {
   "cell_type": "code",
   "execution_count": 1,
   "id": "e414aadd-69da-42a2-a89a-68ac8e7a9633",
   "metadata": {},
   "outputs": [
    {
     "name": "stdout",
     "output_type": "stream",
     "text": [
      "Original matrix:\n",
      "[[0 7 0]\n",
      " [1 2 7]\n",
      " [1 8 5]]\n",
      "\n",
      "Slice (view_slice) before modification:\n",
      "[[0 7]\n",
      " [1 2]]\n",
      "\n",
      "Slice (view_slice) after modification:\n",
      "[[99  7]\n",
      " [ 1  2]]\n",
      "\n",
      "Original matrix after modifying 'view_slice':\n",
      "[[99  7  0]\n",
      " [ 1  2  7]\n",
      " [ 1  8  5]]\n"
     ]
    }
   ],
   "source": [
    "# Q.77:-Create a 2D NumPy array 'matrix' of shapes(3,3) with random integers. Extract a slice 'view_slice' from the matrix.Modify an element in'view_slice'and observe if it changes the original'matrix'.\n",
    "#ans:-\n",
    "import numpy as np\n",
    "\n",
    "# Create a 2D NumPy array 'matrix' with random integers between 0 and 10, of shape (3, 3)\n",
    "matrix = np.random.randint(0, 10, size=(3, 3))\n",
    "\n",
    "print(\"Original matrix:\")\n",
    "print(matrix)\n",
    "\n",
    "# Extract a slice 'view_slice' from the matrix (e.g., the submatrix consisting of the first two rows and columns)\n",
    "view_slice = matrix[:2, :2]\n",
    "\n",
    "print(\"\\nSlice (view_slice) before modification:\")\n",
    "print(view_slice)\n",
    "\n",
    "# Modify an element in 'view_slice'\n",
    "view_slice[0, 0] = 99\n",
    "\n",
    "print(\"\\nSlice (view_slice) after modification:\")\n",
    "print(view_slice)\n",
    "\n",
    "print(\"\\nOriginal matrix after modifying 'view_slice':\")\n",
    "print(matrix)\n"
   ]
  },
  {
   "cell_type": "code",
   "execution_count": 3,
   "id": "db4dcbf8-99b9-4fad-8bb8-710c943bbd05",
   "metadata": {},
   "outputs": [
    {
     "name": "stdout",
     "output_type": "stream",
     "text": [
      "Original array (array_a):\n",
      "[[ 1  2  3]\n",
      " [ 4  5  6]\n",
      " [ 7  8  9]\n",
      " [10 11 12]]\n",
      "\n",
      "Slice (view_b) before modification:\n",
      "[[ 1  2  3]\n",
      " [ 4  5  6]\n",
      " [ 7  8  9]\n",
      " [10 11 12]]\n",
      "\n",
      "Slice (view_b) after adding 5:\n",
      "[[ 6  7  8]\n",
      " [ 9 10 11]\n",
      " [12 13 14]\n",
      " [15 16 17]]\n",
      "\n",
      "Original array (array_a) after modifying 'view_b':\n",
      "[[ 6  7  8]\n",
      " [ 9 10 11]\n",
      " [12 13 14]\n",
      " [15 16 17]]\n"
     ]
    }
   ],
   "source": [
    "#Q.78:- create a NumPy array 'array'_a' of shape(4,3) with sequential integers from 1 to 12. Extract a slice 'view_b'from 'array_a'and broadcast the addition of 5 to view_b .Check if it alters the original 'array_a'.\n",
    "#Ans:-\n",
    "import numpy as np\n",
    "\n",
    "# Create a NumPy array 'array_a' of shape (4, 3) with sequential integers from 1 to 12\n",
    "array_a = np.arange(1, 13).reshape(4, 3)\n",
    "\n",
    "print(\"Original array (array_a):\")\n",
    "print(array_a)\n",
    "\n",
    "# Extract a slice 'view_b' from 'array_a'\n",
    "# For example, take the entire array as the slice (view_b)\n",
    "view_b = array_a[:]\n",
    "\n",
    "print(\"\\nSlice (view_b) before modification:\")\n",
    "print(view_b)\n",
    "\n",
    "# Broadcast the addition of 5 to 'view_b'\n",
    "view_b += 5\n",
    "\n",
    "print(\"\\nSlice (view_b) after adding 5:\")\n",
    "print(view_b)\n",
    "\n",
    "print(\"\\nOriginal array (array_a) after modifying 'view_b':\")\n",
    "print(array_a)\n"
   ]
  },
  {
   "cell_type": "code",
   "execution_count": 4,
   "id": "de6ba910-d691-41f3-9236-7437d4f93e46",
   "metadata": {},
   "outputs": [
    {
     "name": "stdout",
     "output_type": "stream",
     "text": [
      "Original array (orig_array):\n",
      "[[1 2 3 4]\n",
      " [5 6 7 8]]\n",
      "\n",
      "Reshaped view (reshaped_view) before modification:\n",
      "[[1 2]\n",
      " [3 4]\n",
      " [5 6]\n",
      " [7 8]]\n",
      "\n",
      "Reshaped view (reshaped_view) after modification:\n",
      "[[99  2]\n",
      " [ 3  4]\n",
      " [ 5  6]\n",
      " [ 7  8]]\n",
      "\n",
      "Original array (orig_array) after modifying 'reshaped_view':\n",
      "[[99  2  3  4]\n",
      " [ 5  6  7  8]]\n"
     ]
    }
   ],
   "source": [
    "# Q.79:-Create a NumPy array 'orig_array' of shape (2,4) with values from 1 to 8. Create a reshaped view 'reshaped_view'of shape(4,2) from orig_array. Modify an elememt in 'reshaped_view' and check if it reflects changes in the original 'orig_array'\n",
    "#Ams:-\n",
    "import numpy as np\n",
    "\n",
    "# Create a NumPy array 'orig_array' of shape (2, 4) with values from 1 to 8\n",
    "orig_array = np.arange(1, 9).reshape(2, 4)\n",
    "\n",
    "print(\"Original array (orig_array):\")\n",
    "print(orig_array)\n",
    "\n",
    "# Create a reshaped view 'reshaped_view' of shape (4, 2) from 'orig_array'\n",
    "reshaped_view = orig_array.reshape(4, 2)\n",
    "\n",
    "print(\"\\nReshaped view (reshaped_view) before modification:\")\n",
    "print(reshaped_view)\n",
    "\n",
    "# Modify an element in 'reshaped_view'\n",
    "reshaped_view[0, 0] = 99\n",
    "\n",
    "print(\"\\nReshaped view (reshaped_view) after modification:\")\n",
    "print(reshaped_view)\n",
    "\n",
    "print(\"\\nOriginal array (orig_array) after modifying 'reshaped_view':\")\n",
    "print(orig_array)\n"
   ]
  },
  {
   "cell_type": "code",
   "execution_count": 7,
   "id": "917dac31-4db3-4138-bbf5-529e73d329d2",
   "metadata": {},
   "outputs": [
    {
     "name": "stdout",
     "output_type": "stream",
     "text": [
      "Original array (data):\n",
      "[[4 2 1 3]\n",
      " [2 4 7 8]\n",
      " [5 5 2 8]]\n",
      "\n",
      "Data copy (data_copy) before modification:\n",
      "[7 8 8]\n",
      "\n",
      "Data copy (data_copy) after modification:\n",
      "[99  8  8]\n",
      "\n",
      "Original array (data) after modifying 'data_copy':\n",
      "[[4 2 1 3]\n",
      " [2 4 7 8]\n",
      " [5 5 2 8]]\n"
     ]
    }
   ],
   "source": [
    "#Q.80: Create a NumPy array 'data' of shape(3,4) with random integers.Extract a copy 'data_copy' of elements greater than 5.Modify an elemnet in 'data_copy' and verify if it affects the original 'data'.\n",
    "#Ans:-\n",
    "import numpy as np\n",
    "\n",
    "# Create a NumPy array 'data' of shape (3, 4) with random integers between 1 and 10\n",
    "data = np.random.randint(1, 10, size=(3, 4))\n",
    "\n",
    "print(\"Original array (data):\")\n",
    "print(data)\n",
    "\n",
    "# Extract elements greater than 5 and create a copy\n",
    "# First, create a boolean mask for elements greater than 5\n",
    "mask = data > 5\n",
    "\n",
    "# Extract elements greater than 5 using the mask and create a copy\n",
    "data_copy = data[mask].copy()\n",
    "\n",
    "print(\"\\nData copy (data_copy) before modification:\")\n",
    "print(data_copy)\n",
    "\n",
    "# Modify an element in 'data_copy'\n",
    "data_copy[0] = 99  # Example modification\n",
    "\n",
    "print(\"\\nData copy (data_copy) after modification:\")\n",
    "print(data_copy)\n",
    "\n",
    "# Verify if it affects the original 'data'\n",
    "print(\"\\nOriginal array (data) after modifying 'data_copy':\")\n",
    "print(data)\n",
    "\n",
    "\n"
   ]
  },
  {
   "cell_type": "code",
   "execution_count": 8,
   "id": "3cc64c46-3f58-43a4-927a-0183e75ecea3",
   "metadata": {},
   "outputs": [
    {
     "name": "stdout",
     "output_type": "stream",
     "text": [
      "Matrix A:\n",
      "[[1 2 3]\n",
      " [4 5 6]\n",
      " [7 8 9]]\n",
      "\n",
      "Matrix B:\n",
      "[[9 8 7]\n",
      " [6 5 4]\n",
      " [3 2 1]]\n",
      "\n",
      "Addition (A + B):\n",
      "[[10 10 10]\n",
      " [10 10 10]\n",
      " [10 10 10]]\n",
      "\n",
      "Subtraction (A - B):\n",
      "[[-8 -6 -4]\n",
      " [-2  0  2]\n",
      " [ 4  6  8]]\n"
     ]
    }
   ],
   "source": [
    "# Q.81:- Create two matrices A and B of identical shape containing integers and perform addition and subtraction operations between them.\n",
    "#Ans:-\n",
    "import numpy as np\n",
    "\n",
    "# Create two matrices A and B of identical shape (e.g., 3x3) with integers\n",
    "A = np.array([[1, 2, 3],\n",
    "              [4, 5, 6],\n",
    "              [7, 8, 9]])\n",
    "\n",
    "B = np.array([[9, 8, 7],\n",
    "              [6, 5, 4],\n",
    "              [3, 2, 1]])\n",
    "\n",
    "print(\"Matrix A:\")\n",
    "print(A)\n",
    "\n",
    "print(\"\\nMatrix B:\")\n",
    "print(B)\n",
    "\n",
    "# Perform addition\n",
    "addition_result = A + B\n",
    "print(\"\\nAddition (A + B):\")\n",
    "print(addition_result)\n",
    "\n",
    "# Perform subtraction\n",
    "subtraction_result = A - B\n",
    "print(\"\\nSubtraction (A - B):\")\n",
    "print(subtraction_result)\n"
   ]
  },
  {
   "cell_type": "code",
   "execution_count": 9,
   "id": "8d12fccc-b1ca-446d-b20b-4f998a56fe8b",
   "metadata": {},
   "outputs": [
    {
     "name": "stdout",
     "output_type": "stream",
     "text": [
      "Matrix C (3x2):\n",
      "[[2 3]\n",
      " [9 2]\n",
      " [4 8]]\n",
      "\n",
      "Matrix D (2x4):\n",
      "[[4 2 9 4]\n",
      " [1 2 9 7]]\n",
      "\n",
      "Matrix multiplication result (C @ D):\n",
      "[[ 11  10  45  29]\n",
      " [ 38  22  99  50]\n",
      " [ 24  24 108  72]]\n"
     ]
    }
   ],
   "source": [
    "#Q.82:-Generate two matrices 'C'(3*2) and 'D'(2*4) and perform matrix multiplication.\n",
    "\n",
    "#Ans:-\n",
    "import numpy as np\n",
    "\n",
    "# Generate two matrices C (3x2) and D (2x4) with random integers\n",
    "C = np.random.randint(1, 10, size=(3, 2))\n",
    "D = np.random.randint(1, 10, size=(2, 4))\n",
    "\n",
    "print(\"Matrix C (3x2):\")\n",
    "print(C)\n",
    "\n",
    "print(\"\\nMatrix D (2x4):\")\n",
    "print(D)\n",
    "\n",
    "# Perform matrix multiplication\n",
    "result = C @ D  # or use np.matmul(C, D)\n",
    "\n",
    "print(\"\\nMatrix multiplication result (C @ D):\")\n",
    "print(result)\n"
   ]
  },
  {
   "cell_type": "code",
   "execution_count": 10,
   "id": "ff5e4c34-bc58-4d46-b2e4-fd2438b48e54",
   "metadata": {},
   "outputs": [
    {
     "name": "stdout",
     "output_type": "stream",
     "text": [
      "Original matrix E:\n",
      "[[1 2 3]\n",
      " [4 5 6]\n",
      " [7 8 9]]\n",
      "\n",
      "Transpose of matrix E:\n",
      "[[1 4 7]\n",
      " [2 5 8]\n",
      " [3 6 9]]\n"
     ]
    }
   ],
   "source": [
    "#Q.83:- Create a matrix 'E' and find its transpose.\n",
    "#ans:-\n",
    "import numpy as np\n",
    "\n",
    "# Create a matrix 'E' with arbitrary values\n",
    "E = np.array([[1, 2, 3],\n",
    "              [4, 5, 6],\n",
    "              [7, 8, 9]])\n",
    "\n",
    "print(\"Original matrix E:\")\n",
    "print(E)\n",
    "\n",
    "# Find the transpose of matrix 'E'\n",
    "E_transpose = E.T  # or use np.transpose(E)\n",
    "\n",
    "print(\"\\nTranspose of matrix E:\")\n",
    "print(E_transpose)\n"
   ]
  },
  {
   "cell_type": "code",
   "execution_count": 11,
   "id": "dcad0c57-328b-45fe-ac07-bdac1b1a24da",
   "metadata": {},
   "outputs": [
    {
     "name": "stdout",
     "output_type": "stream",
     "text": [
      "Square matrix F:\n",
      "[[7 2 5]\n",
      " [7 8 5]\n",
      " [5 7 7]]\n",
      "\n",
      "Determinant of matrix F:\n",
      "143.9999999999999\n"
     ]
    }
   ],
   "source": [
    "#Q.84:- Generate a square matrix 'F' and compute its determinant.\n",
    "# Ans:-\n",
    "import numpy as np\n",
    "\n",
    "# Generate a square matrix 'F' of size 3x3 with random integers\n",
    "F = np.random.randint(1, 10, size=(3, 3))\n",
    "\n",
    "print(\"Square matrix F:\")\n",
    "print(F)\n",
    "\n",
    "# Compute the determinant of matrix 'F'\n",
    "determinant = np.linalg.det(F)\n",
    "\n",
    "print(\"\\nDeterminant of matrix F:\")\n",
    "print(determinant)\n"
   ]
  },
  {
   "cell_type": "code",
   "execution_count": 12,
   "id": "a5f1ca92-0fca-4d4c-92e4-5fe8d706176a",
   "metadata": {},
   "outputs": [
    {
     "name": "stdout",
     "output_type": "stream",
     "text": [
      "Square matrix G:\n",
      "[[5 1 5]\n",
      " [7 4 2]\n",
      " [7 8 4]]\n",
      "\n",
      "Inverse of matrix G:\n",
      "[[ 0.          0.28571429 -0.14285714]\n",
      " [-0.11111111 -0.11904762  0.1984127 ]\n",
      " [ 0.22222222 -0.26190476  0.1031746 ]]\n"
     ]
    }
   ],
   "source": [
    "#Q.85:- Create a square matrix 'G' and find its inverse.\n",
    "#Ans:-\n",
    "import numpy as np\n",
    "\n",
    "# Create a square matrix 'G' of size 3x3 with random integers\n",
    "G = np.random.randint(1, 10, size=(3, 3))\n",
    "\n",
    "print(\"Square matrix G:\")\n",
    "print(G)\n",
    "\n",
    "# Compute the determinant to check if the matrix is invertible\n",
    "determinant = np.linalg.det(G)\n",
    "\n",
    "# Compute the inverse of matrix 'G' if the determinant is not zero\n",
    "if determinant != 0:\n",
    "    G_inverse = np.linalg.inv(G)\n",
    "    print(\"\\nInverse of matrix G:\")\n",
    "    print(G_inverse)\n",
    "else:\n",
    "    print(\"\\nMatrix G is singular and does not have an inverse.\")\n"
   ]
  },
  {
   "cell_type": "code",
   "execution_count": null,
   "id": "fbe3920c-1b54-4192-8704-9864bc0c34ce",
   "metadata": {},
   "outputs": [],
   "source": []
  },
  {
   "cell_type": "code",
   "execution_count": null,
   "id": "ca28b1af-4825-4753-9d02-ab452231a152",
   "metadata": {},
   "outputs": [],
   "source": []
  },
  {
   "cell_type": "code",
   "execution_count": null,
   "id": "c2bc01c0-4529-4cf2-b9ab-6c4e61a6d5c6",
   "metadata": {},
   "outputs": [],
   "source": []
  },
  {
   "cell_type": "code",
   "execution_count": null,
   "id": "e94196a5-dd04-4618-ab96-d9476c11af53",
   "metadata": {},
   "outputs": [],
   "source": []
  },
  {
   "cell_type": "code",
   "execution_count": null,
   "id": "1f9a0581-3e42-44a0-927e-b85293d17aa6",
   "metadata": {},
   "outputs": [],
   "source": []
  },
  {
   "cell_type": "code",
   "execution_count": null,
   "id": "4fb7a9a8-d689-48ab-8718-30bdbc37707e",
   "metadata": {},
   "outputs": [],
   "source": []
  },
  {
   "cell_type": "code",
   "execution_count": null,
   "id": "45ff6879-6f73-48d0-96f0-4fb9f65f5921",
   "metadata": {},
   "outputs": [],
   "source": []
  },
  {
   "cell_type": "code",
   "execution_count": null,
   "id": "336e6ab6-d87b-4f82-8d4a-a5bca5b11fd6",
   "metadata": {},
   "outputs": [],
   "source": []
  },
  {
   "cell_type": "code",
   "execution_count": null,
   "id": "4582896d-9e1a-434a-8248-9f0b8e729e4d",
   "metadata": {},
   "outputs": [],
   "source": []
  },
  {
   "cell_type": "code",
   "execution_count": null,
   "id": "d69df92f-c4eb-4ff1-8f8a-3a1945d204a9",
   "metadata": {},
   "outputs": [],
   "source": []
  },
  {
   "cell_type": "code",
   "execution_count": null,
   "id": "10e19426-fc4e-46e8-acfa-c6b863c6bd52",
   "metadata": {},
   "outputs": [],
   "source": []
  },
  {
   "cell_type": "code",
   "execution_count": null,
   "id": "adb691f7-1fd3-4ffd-8c49-ea3e79ab49ca",
   "metadata": {},
   "outputs": [],
   "source": []
  },
  {
   "cell_type": "code",
   "execution_count": null,
   "id": "6c72d934-aecd-4e79-a496-075c0d6d7d4c",
   "metadata": {},
   "outputs": [],
   "source": []
  },
  {
   "cell_type": "code",
   "execution_count": null,
   "id": "9736db3e-4954-45d0-86be-e8c3747421f4",
   "metadata": {},
   "outputs": [],
   "source": []
  },
  {
   "cell_type": "code",
   "execution_count": null,
   "id": "23c6b853-0472-496f-bbdc-4a67fc5b811f",
   "metadata": {},
   "outputs": [],
   "source": []
  },
  {
   "cell_type": "code",
   "execution_count": null,
   "id": "18985677-3d0a-4d9c-a9ad-11f59371ad89",
   "metadata": {},
   "outputs": [],
   "source": []
  },
  {
   "cell_type": "code",
   "execution_count": null,
   "id": "2037d0be-5dd8-4006-9f44-c0144f72b9af",
   "metadata": {},
   "outputs": [],
   "source": []
  },
  {
   "cell_type": "code",
   "execution_count": null,
   "id": "a22257b5-c422-48f1-92c2-fc5a55c3481c",
   "metadata": {},
   "outputs": [],
   "source": []
  },
  {
   "cell_type": "code",
   "execution_count": null,
   "id": "b2ee4a0d-b067-4c33-a3c9-a8eab3e8a5e1",
   "metadata": {},
   "outputs": [],
   "source": []
  },
  {
   "cell_type": "code",
   "execution_count": null,
   "id": "2d170787-dfd9-45a3-b708-0d0300b31dfd",
   "metadata": {},
   "outputs": [],
   "source": []
  },
  {
   "cell_type": "code",
   "execution_count": null,
   "id": "42ef56f4-a338-46c4-a000-a011f91c4c99",
   "metadata": {},
   "outputs": [],
   "source": []
  },
  {
   "cell_type": "code",
   "execution_count": null,
   "id": "0d699796-5897-4710-bd21-c7c4252b190f",
   "metadata": {},
   "outputs": [],
   "source": []
  },
  {
   "cell_type": "code",
   "execution_count": null,
   "id": "5037f020-2638-4417-9563-425a81c33c19",
   "metadata": {},
   "outputs": [],
   "source": []
  },
  {
   "cell_type": "code",
   "execution_count": null,
   "id": "c64d6aca-b041-4da5-a4bb-d852f3195af7",
   "metadata": {},
   "outputs": [],
   "source": []
  },
  {
   "cell_type": "code",
   "execution_count": null,
   "id": "4a07b379-e73a-4b56-a2e8-c03e8db2190b",
   "metadata": {},
   "outputs": [],
   "source": []
  },
  {
   "cell_type": "code",
   "execution_count": null,
   "id": "e918f406-5986-49ce-b88f-854fde303b24",
   "metadata": {},
   "outputs": [],
   "source": []
  },
  {
   "cell_type": "code",
   "execution_count": null,
   "id": "b2f982e1-1993-47ac-8079-a7195ac515f3",
   "metadata": {},
   "outputs": [],
   "source": []
  },
  {
   "cell_type": "code",
   "execution_count": null,
   "id": "8638b108-1d82-4412-af40-2732fce4ef7c",
   "metadata": {},
   "outputs": [],
   "source": []
  },
  {
   "cell_type": "code",
   "execution_count": null,
   "id": "9ef32325-8fac-4fd8-ae84-4bd67df1d18d",
   "metadata": {},
   "outputs": [],
   "source": []
  },
  {
   "cell_type": "code",
   "execution_count": null,
   "id": "f15de1df-e640-4ade-bd9d-319c3fba21c8",
   "metadata": {},
   "outputs": [],
   "source": []
  },
  {
   "cell_type": "code",
   "execution_count": null,
   "id": "c6994b11-45f6-481e-aff4-93cd4d02dc5c",
   "metadata": {},
   "outputs": [],
   "source": []
  },
  {
   "cell_type": "code",
   "execution_count": null,
   "id": "95defb14-9079-4434-91a2-9079c2f32227",
   "metadata": {},
   "outputs": [],
   "source": []
  },
  {
   "cell_type": "code",
   "execution_count": null,
   "id": "cf5a9e66-d7b9-4d96-a607-b19fdbf149c0",
   "metadata": {},
   "outputs": [],
   "source": []
  },
  {
   "cell_type": "code",
   "execution_count": null,
   "id": "eb129541-2a05-406d-851a-7d31ed5263f0",
   "metadata": {},
   "outputs": [],
   "source": []
  },
  {
   "cell_type": "code",
   "execution_count": null,
   "id": "2aa7f53c-4e8e-4bf4-8211-535dc07eb294",
   "metadata": {},
   "outputs": [],
   "source": []
  },
  {
   "cell_type": "code",
   "execution_count": null,
   "id": "d65cc95b-55ae-473b-91b3-6bf2ca189990",
   "metadata": {},
   "outputs": [],
   "source": []
  },
  {
   "cell_type": "code",
   "execution_count": null,
   "id": "9b647a4a-a861-425f-ad45-1b7ed7f3eddd",
   "metadata": {},
   "outputs": [],
   "source": []
  },
  {
   "cell_type": "code",
   "execution_count": null,
   "id": "2241da75-5e23-49fe-bd3d-7df7916115db",
   "metadata": {},
   "outputs": [],
   "source": []
  },
  {
   "cell_type": "code",
   "execution_count": null,
   "id": "b01ad9c4-4568-447c-b56d-e5105c98d146",
   "metadata": {},
   "outputs": [],
   "source": []
  },
  {
   "cell_type": "code",
   "execution_count": null,
   "id": "4f25cc4f-289e-4d60-b22e-c05c326b859b",
   "metadata": {},
   "outputs": [],
   "source": []
  },
  {
   "cell_type": "code",
   "execution_count": null,
   "id": "62ee5f98-c61b-4d37-8a70-89ac5e67e33e",
   "metadata": {},
   "outputs": [],
   "source": []
  },
  {
   "cell_type": "code",
   "execution_count": null,
   "id": "d60a5ccb-4bd7-4438-9278-fa090a0551db",
   "metadata": {},
   "outputs": [],
   "source": []
  },
  {
   "cell_type": "code",
   "execution_count": null,
   "id": "99dabddf-44ad-4efa-9071-50a004ad3a6f",
   "metadata": {},
   "outputs": [],
   "source": []
  },
  {
   "cell_type": "code",
   "execution_count": null,
   "id": "5922e57e-2b13-4c04-b41c-381b83ae6820",
   "metadata": {},
   "outputs": [],
   "source": []
  },
  {
   "cell_type": "code",
   "execution_count": null,
   "id": "a4384688-48fe-4ed0-83c7-330787ac3a11",
   "metadata": {},
   "outputs": [],
   "source": []
  },
  {
   "cell_type": "code",
   "execution_count": null,
   "id": "9d408d9b-e2fb-4626-8418-a611018d270a",
   "metadata": {},
   "outputs": [],
   "source": []
  },
  {
   "cell_type": "code",
   "execution_count": null,
   "id": "c24e7aa7-eb54-47e7-8abf-c82ab6c8e1d1",
   "metadata": {},
   "outputs": [],
   "source": []
  },
  {
   "cell_type": "code",
   "execution_count": null,
   "id": "ec1b1ce1-4a71-433e-a13f-3e0282a7750c",
   "metadata": {},
   "outputs": [],
   "source": []
  },
  {
   "cell_type": "code",
   "execution_count": null,
   "id": "267b6cb7-959e-42fb-b11f-bb1fb17b12e8",
   "metadata": {},
   "outputs": [],
   "source": []
  },
  {
   "cell_type": "code",
   "execution_count": null,
   "id": "546bf110-bfb4-4325-b04c-4b9e361b9949",
   "metadata": {},
   "outputs": [],
   "source": []
  },
  {
   "cell_type": "code",
   "execution_count": null,
   "id": "ae76fcd1-9aa7-4d74-aa0e-5f45eab4dd02",
   "metadata": {},
   "outputs": [],
   "source": []
  },
  {
   "cell_type": "code",
   "execution_count": null,
   "id": "14cad07a-453c-4324-aeb7-3e83ae5b9315",
   "metadata": {},
   "outputs": [],
   "source": []
  },
  {
   "cell_type": "code",
   "execution_count": null,
   "id": "8ff1d288-30d4-4647-ae7a-8683b9c6593c",
   "metadata": {},
   "outputs": [],
   "source": []
  },
  {
   "cell_type": "code",
   "execution_count": null,
   "id": "548b7c99-d8a6-4aaa-99e9-66903cffd62c",
   "metadata": {},
   "outputs": [],
   "source": []
  },
  {
   "cell_type": "code",
   "execution_count": null,
   "id": "07b078ae-6179-4407-96e2-f213bd22839b",
   "metadata": {},
   "outputs": [],
   "source": []
  },
  {
   "cell_type": "code",
   "execution_count": null,
   "id": "594930ab-5bdc-427c-a41a-e4c9819a083e",
   "metadata": {},
   "outputs": [],
   "source": []
  },
  {
   "cell_type": "code",
   "execution_count": null,
   "id": "e78b944a-ce41-459d-90be-cbb059469eb1",
   "metadata": {},
   "outputs": [],
   "source": []
  },
  {
   "cell_type": "code",
   "execution_count": null,
   "id": "9fcf0b53-865d-4113-b67e-90484912227a",
   "metadata": {},
   "outputs": [],
   "source": []
  },
  {
   "cell_type": "code",
   "execution_count": null,
   "id": "516fc855-6e77-40db-8293-628bed86422c",
   "metadata": {},
   "outputs": [],
   "source": []
  },
  {
   "cell_type": "code",
   "execution_count": null,
   "id": "d75c9a85-6bd4-45c7-a18e-a11a3b9a13ae",
   "metadata": {},
   "outputs": [],
   "source": []
  },
  {
   "cell_type": "code",
   "execution_count": null,
   "id": "de217f44-3ad6-45fa-9fc0-47621036f9c4",
   "metadata": {},
   "outputs": [],
   "source": []
  },
  {
   "cell_type": "code",
   "execution_count": null,
   "id": "6f539dc9-2468-46f1-9efb-5706bed30669",
   "metadata": {},
   "outputs": [],
   "source": []
  },
  {
   "cell_type": "code",
   "execution_count": null,
   "id": "04837320-48f5-40e2-baa6-26e699105af5",
   "metadata": {},
   "outputs": [],
   "source": []
  },
  {
   "cell_type": "code",
   "execution_count": null,
   "id": "0ef604f3-af6e-46c0-abf1-9656573edef3",
   "metadata": {},
   "outputs": [],
   "source": []
  },
  {
   "cell_type": "code",
   "execution_count": null,
   "id": "9697783c-0330-44d8-b983-d8f297d6e0c9",
   "metadata": {},
   "outputs": [],
   "source": []
  },
  {
   "cell_type": "code",
   "execution_count": null,
   "id": "e42d8672-9425-4413-864d-42e149b18608",
   "metadata": {},
   "outputs": [],
   "source": []
  },
  {
   "cell_type": "code",
   "execution_count": null,
   "id": "0e9fadde-f5d1-4be6-8508-9babc2182c3f",
   "metadata": {},
   "outputs": [],
   "source": []
  },
  {
   "cell_type": "code",
   "execution_count": null,
   "id": "5e486353-bde0-493f-8acc-d8fb23ff4be4",
   "metadata": {},
   "outputs": [],
   "source": []
  },
  {
   "cell_type": "code",
   "execution_count": null,
   "id": "ba61804c-fe08-41ea-9c04-28cbd0eabca6",
   "metadata": {},
   "outputs": [],
   "source": []
  },
  {
   "cell_type": "code",
   "execution_count": null,
   "id": "b0ff7954-1c7a-48f9-a891-40a1164a4215",
   "metadata": {},
   "outputs": [],
   "source": []
  },
  {
   "cell_type": "code",
   "execution_count": null,
   "id": "f7c30812-81b7-43c7-8c9e-5143267f73ec",
   "metadata": {},
   "outputs": [],
   "source": []
  },
  {
   "cell_type": "code",
   "execution_count": null,
   "id": "a9aed765-e263-4d86-a3fa-b08f9b4a50b3",
   "metadata": {},
   "outputs": [],
   "source": []
  },
  {
   "cell_type": "code",
   "execution_count": null,
   "id": "98ca64ad-0ad8-4cf4-99a6-30382f6d2d63",
   "metadata": {},
   "outputs": [],
   "source": []
  },
  {
   "cell_type": "code",
   "execution_count": null,
   "id": "7c2368e4-f064-47a4-a63d-367b3365caa1",
   "metadata": {},
   "outputs": [],
   "source": []
  },
  {
   "cell_type": "code",
   "execution_count": null,
   "id": "6123b53e-6555-426e-b071-491a62ae4083",
   "metadata": {},
   "outputs": [],
   "source": []
  },
  {
   "cell_type": "code",
   "execution_count": null,
   "id": "81c8580c-d292-4d37-bd71-269e1209424c",
   "metadata": {},
   "outputs": [],
   "source": []
  },
  {
   "cell_type": "code",
   "execution_count": null,
   "id": "28d98274-e59d-4ecf-9e91-0178d0406a46",
   "metadata": {},
   "outputs": [],
   "source": []
  },
  {
   "cell_type": "code",
   "execution_count": null,
   "id": "616019ee-86ac-40d5-91d6-8db5b35ced30",
   "metadata": {},
   "outputs": [],
   "source": []
  },
  {
   "cell_type": "code",
   "execution_count": null,
   "id": "f0945868-b497-4530-9bac-129163d58c56",
   "metadata": {},
   "outputs": [],
   "source": []
  },
  {
   "cell_type": "code",
   "execution_count": null,
   "id": "f82a3541-fc68-4f08-b8ff-2025ad4d422e",
   "metadata": {},
   "outputs": [],
   "source": []
  },
  {
   "cell_type": "code",
   "execution_count": null,
   "id": "ec69c398-ed5c-4051-9d81-1b9efff659a5",
   "metadata": {},
   "outputs": [],
   "source": []
  },
  {
   "cell_type": "code",
   "execution_count": null,
   "id": "12088213-f835-4900-aaef-df2ee4540513",
   "metadata": {},
   "outputs": [],
   "source": []
  },
  {
   "cell_type": "code",
   "execution_count": null,
   "id": "e799e758-3dde-47e6-856b-8247f19d44bf",
   "metadata": {},
   "outputs": [],
   "source": []
  },
  {
   "cell_type": "code",
   "execution_count": null,
   "id": "d07708fc-bf1c-4eb4-b183-b6316c4d4b7c",
   "metadata": {},
   "outputs": [],
   "source": []
  },
  {
   "cell_type": "code",
   "execution_count": null,
   "id": "5c82a53f-f27c-4a29-b0e9-df034377cfd4",
   "metadata": {},
   "outputs": [],
   "source": []
  },
  {
   "cell_type": "code",
   "execution_count": null,
   "id": "37e7d4ad-e478-4c6c-8a03-0bf618b66de5",
   "metadata": {},
   "outputs": [],
   "source": []
  },
  {
   "cell_type": "code",
   "execution_count": null,
   "id": "1039a680-2dac-4fb0-b961-798ce7fb1bc1",
   "metadata": {},
   "outputs": [],
   "source": []
  },
  {
   "cell_type": "code",
   "execution_count": null,
   "id": "69e31f23-ce5d-46e3-a731-562fdaf2e108",
   "metadata": {},
   "outputs": [],
   "source": []
  },
  {
   "cell_type": "code",
   "execution_count": null,
   "id": "fb6e64aa-fca8-47f5-a71b-fdd4cd4e2b53",
   "metadata": {},
   "outputs": [],
   "source": []
  },
  {
   "cell_type": "code",
   "execution_count": null,
   "id": "68a61afc-db2e-4ba6-b346-1ddb0712aa5c",
   "metadata": {},
   "outputs": [],
   "source": []
  },
  {
   "cell_type": "code",
   "execution_count": null,
   "id": "f874a540-640f-477f-9a2b-91fe056586bb",
   "metadata": {},
   "outputs": [],
   "source": []
  },
  {
   "cell_type": "code",
   "execution_count": null,
   "id": "cb9e5175-e2e9-487b-9703-d04d01e30381",
   "metadata": {},
   "outputs": [],
   "source": []
  },
  {
   "cell_type": "code",
   "execution_count": null,
   "id": "c46785da-d475-4486-9b1c-86c408f398da",
   "metadata": {},
   "outputs": [],
   "source": []
  },
  {
   "cell_type": "code",
   "execution_count": null,
   "id": "78649da2-6767-4316-82d8-d115f9482ac8",
   "metadata": {},
   "outputs": [],
   "source": []
  },
  {
   "cell_type": "code",
   "execution_count": null,
   "id": "ac4566ae-db3d-430b-b599-02ed5cf5b35f",
   "metadata": {},
   "outputs": [],
   "source": []
  },
  {
   "cell_type": "code",
   "execution_count": null,
   "id": "688674f0-f1ea-41eb-becf-f90a73586a54",
   "metadata": {},
   "outputs": [],
   "source": []
  },
  {
   "cell_type": "code",
   "execution_count": null,
   "id": "45abd483-7de6-47e9-b6a3-e4f9743f3d6b",
   "metadata": {},
   "outputs": [],
   "source": []
  },
  {
   "cell_type": "code",
   "execution_count": null,
   "id": "f2dd7a65-1ffa-46d3-aee6-2fa96f4cec38",
   "metadata": {},
   "outputs": [],
   "source": []
  },
  {
   "cell_type": "code",
   "execution_count": null,
   "id": "ead36ff1-642d-41da-b16c-8600aea9afad",
   "metadata": {},
   "outputs": [],
   "source": []
  },
  {
   "cell_type": "code",
   "execution_count": null,
   "id": "10fd4411-9f70-4dc5-aa04-caeec3fec98c",
   "metadata": {},
   "outputs": [],
   "source": []
  },
  {
   "cell_type": "code",
   "execution_count": null,
   "id": "f1258ce0-61df-4eb5-a91f-93c8af5383f7",
   "metadata": {},
   "outputs": [],
   "source": []
  },
  {
   "cell_type": "code",
   "execution_count": null,
   "id": "611a66e7-5dbb-4f4a-9519-af18d7ba5a08",
   "metadata": {},
   "outputs": [],
   "source": []
  },
  {
   "cell_type": "code",
   "execution_count": null,
   "id": "a9928bbd-0503-437b-a035-23522bd4ad7c",
   "metadata": {},
   "outputs": [],
   "source": []
  },
  {
   "cell_type": "code",
   "execution_count": null,
   "id": "4860b0a1-f3d7-44ff-8d88-accaf476742e",
   "metadata": {},
   "outputs": [],
   "source": []
  },
  {
   "cell_type": "code",
   "execution_count": null,
   "id": "ac62aff7-e56f-44cb-b327-3f7895a4e97a",
   "metadata": {},
   "outputs": [],
   "source": []
  },
  {
   "cell_type": "code",
   "execution_count": null,
   "id": "3613880f-af71-4397-8cd3-f6103c8b9cc4",
   "metadata": {},
   "outputs": [],
   "source": []
  },
  {
   "cell_type": "code",
   "execution_count": null,
   "id": "4668dc29-003f-4248-a3a9-4a01eff556a2",
   "metadata": {},
   "outputs": [],
   "source": []
  },
  {
   "cell_type": "code",
   "execution_count": null,
   "id": "89ee23cd-f91a-42ab-b96d-a3c16abc5118",
   "metadata": {},
   "outputs": [],
   "source": []
  },
  {
   "cell_type": "code",
   "execution_count": null,
   "id": "7f3aa1ac-5672-452a-952d-8eb12d7becc8",
   "metadata": {},
   "outputs": [],
   "source": []
  },
  {
   "cell_type": "code",
   "execution_count": null,
   "id": "48169846-586a-486d-aa67-26e50eeef4b8",
   "metadata": {},
   "outputs": [],
   "source": []
  },
  {
   "cell_type": "code",
   "execution_count": null,
   "id": "548d2f20-c597-4d2e-b030-07dcaaa10a4b",
   "metadata": {},
   "outputs": [],
   "source": []
  },
  {
   "cell_type": "code",
   "execution_count": null,
   "id": "f14a00fc-217d-4302-86d2-873ff538db0d",
   "metadata": {},
   "outputs": [],
   "source": []
  },
  {
   "cell_type": "code",
   "execution_count": null,
   "id": "bc028f63-2376-4b6f-a5ee-efec99ad509d",
   "metadata": {},
   "outputs": [],
   "source": []
  },
  {
   "cell_type": "code",
   "execution_count": null,
   "id": "ffd12c92-e97f-4557-9b8b-5e8522b1f3c2",
   "metadata": {},
   "outputs": [],
   "source": []
  },
  {
   "cell_type": "code",
   "execution_count": null,
   "id": "ecc16104-6ead-4b23-8407-c154cd2f60c5",
   "metadata": {},
   "outputs": [],
   "source": []
  },
  {
   "cell_type": "code",
   "execution_count": null,
   "id": "451dc08c-a387-4cec-a699-9c797778851f",
   "metadata": {},
   "outputs": [],
   "source": []
  },
  {
   "cell_type": "code",
   "execution_count": null,
   "id": "6e102d44-b048-4e2b-a4a9-0a90d807de68",
   "metadata": {},
   "outputs": [],
   "source": []
  },
  {
   "cell_type": "code",
   "execution_count": null,
   "id": "caa82b07-8d01-4a3e-8067-113e07862e69",
   "metadata": {},
   "outputs": [],
   "source": []
  },
  {
   "cell_type": "code",
   "execution_count": null,
   "id": "3619b7c1-19d2-4a24-b61b-19d74d8e7360",
   "metadata": {},
   "outputs": [],
   "source": []
  },
  {
   "cell_type": "code",
   "execution_count": null,
   "id": "b1866e99-15bc-4131-8235-ea1f25398470",
   "metadata": {},
   "outputs": [],
   "source": []
  },
  {
   "cell_type": "code",
   "execution_count": null,
   "id": "568fc4c6-e367-49ce-be8e-8baecc7055d0",
   "metadata": {},
   "outputs": [],
   "source": []
  },
  {
   "cell_type": "code",
   "execution_count": null,
   "id": "34d8b486-5908-4793-aabc-681112d1cafc",
   "metadata": {},
   "outputs": [],
   "source": []
  },
  {
   "cell_type": "code",
   "execution_count": null,
   "id": "2f3ba9a1-522f-45d5-91a8-f20c6156b587",
   "metadata": {},
   "outputs": [],
   "source": []
  },
  {
   "cell_type": "code",
   "execution_count": null,
   "id": "5ce85276-6d0d-4bf5-acec-81dd414330d8",
   "metadata": {},
   "outputs": [],
   "source": []
  },
  {
   "cell_type": "code",
   "execution_count": null,
   "id": "1d4c20c2-c83f-4b19-9299-6cad00adb12a",
   "metadata": {},
   "outputs": [],
   "source": []
  },
  {
   "cell_type": "code",
   "execution_count": null,
   "id": "7183763a-2f5d-4dce-8332-4c591276957f",
   "metadata": {},
   "outputs": [],
   "source": []
  },
  {
   "cell_type": "code",
   "execution_count": null,
   "id": "df188d85-c3f4-4e12-9187-ceb55da1ea17",
   "metadata": {},
   "outputs": [],
   "source": []
  },
  {
   "cell_type": "code",
   "execution_count": null,
   "id": "23d38814-b001-4f30-8fd9-e14f51dfbedb",
   "metadata": {},
   "outputs": [],
   "source": []
  },
  {
   "cell_type": "code",
   "execution_count": null,
   "id": "01dd0589-3625-43f2-825c-4cfbbcaa8c22",
   "metadata": {},
   "outputs": [],
   "source": []
  },
  {
   "cell_type": "code",
   "execution_count": null,
   "id": "95ea1e1e-f413-450a-a107-42ccbfb62fba",
   "metadata": {},
   "outputs": [],
   "source": []
  },
  {
   "cell_type": "code",
   "execution_count": null,
   "id": "097b389d-40e0-42bb-8d9a-d86fb99e06ba",
   "metadata": {},
   "outputs": [],
   "source": []
  },
  {
   "cell_type": "code",
   "execution_count": null,
   "id": "4f0bd3ca-816a-4d1e-847a-e726de899a4e",
   "metadata": {},
   "outputs": [],
   "source": []
  },
  {
   "cell_type": "code",
   "execution_count": null,
   "id": "29a8b2b2-22df-4f34-8e1e-2300632628d5",
   "metadata": {},
   "outputs": [],
   "source": []
  },
  {
   "cell_type": "code",
   "execution_count": null,
   "id": "2df5357d-8180-4103-adc5-cd7af7e85051",
   "metadata": {},
   "outputs": [],
   "source": []
  },
  {
   "cell_type": "code",
   "execution_count": null,
   "id": "24dfb344-44ec-4f49-8d6b-03cbfa8bce3f",
   "metadata": {},
   "outputs": [],
   "source": []
  },
  {
   "cell_type": "code",
   "execution_count": null,
   "id": "a4ada0e0-7399-43c8-a6e8-648be1ccd61d",
   "metadata": {},
   "outputs": [],
   "source": []
  },
  {
   "cell_type": "code",
   "execution_count": null,
   "id": "f11db1f5-5bf2-4845-aa8c-4264055f842d",
   "metadata": {},
   "outputs": [],
   "source": []
  },
  {
   "cell_type": "code",
   "execution_count": null,
   "id": "02db53b2-e728-4a19-ac97-504e6e065aa1",
   "metadata": {},
   "outputs": [],
   "source": []
  },
  {
   "cell_type": "code",
   "execution_count": null,
   "id": "328c9b77-db12-488e-86d7-243dfaeb1c9e",
   "metadata": {},
   "outputs": [],
   "source": []
  },
  {
   "cell_type": "code",
   "execution_count": null,
   "id": "cac87626-8f48-4e44-9847-af4f5b166872",
   "metadata": {},
   "outputs": [],
   "source": []
  },
  {
   "cell_type": "code",
   "execution_count": null,
   "id": "20f1f9f2-814f-4bf8-bf9a-72a5452f31d1",
   "metadata": {},
   "outputs": [],
   "source": []
  },
  {
   "cell_type": "code",
   "execution_count": null,
   "id": "112df084-559f-4543-9925-9b5c00015f1d",
   "metadata": {},
   "outputs": [],
   "source": []
  },
  {
   "cell_type": "code",
   "execution_count": null,
   "id": "44ba69cc-27bf-492d-b23b-66112e6b7774",
   "metadata": {},
   "outputs": [],
   "source": []
  },
  {
   "cell_type": "code",
   "execution_count": null,
   "id": "3750881e-b931-44a5-a63b-ed37bd8234ef",
   "metadata": {},
   "outputs": [],
   "source": []
  },
  {
   "cell_type": "code",
   "execution_count": null,
   "id": "72f8de64-0eef-4c7a-8c97-f30a5f50ef65",
   "metadata": {},
   "outputs": [],
   "source": []
  },
  {
   "cell_type": "code",
   "execution_count": null,
   "id": "16e8963d-782b-4c11-aa8d-60ccfa64988e",
   "metadata": {},
   "outputs": [],
   "source": []
  },
  {
   "cell_type": "code",
   "execution_count": null,
   "id": "fc7e699c-ed88-4554-ad7b-35c78e9697c3",
   "metadata": {},
   "outputs": [],
   "source": []
  },
  {
   "cell_type": "code",
   "execution_count": null,
   "id": "38d6087d-4842-4e48-b504-82abb9d40e24",
   "metadata": {},
   "outputs": [],
   "source": []
  },
  {
   "cell_type": "code",
   "execution_count": null,
   "id": "5829d13c-1c0e-4962-891b-2f90bab7207a",
   "metadata": {},
   "outputs": [],
   "source": []
  },
  {
   "cell_type": "code",
   "execution_count": null,
   "id": "e7bad55c-3f73-46a2-83ae-55bb069f2d85",
   "metadata": {},
   "outputs": [],
   "source": []
  },
  {
   "cell_type": "code",
   "execution_count": null,
   "id": "f5fe4296-5087-4666-aa7a-7b792e963076",
   "metadata": {},
   "outputs": [],
   "source": []
  },
  {
   "cell_type": "code",
   "execution_count": null,
   "id": "19b5bc25-0e55-4d4c-8433-bcb44e91de06",
   "metadata": {},
   "outputs": [],
   "source": []
  },
  {
   "cell_type": "code",
   "execution_count": null,
   "id": "76561037-4be1-44a8-a414-7ceb7fb3630b",
   "metadata": {},
   "outputs": [],
   "source": []
  },
  {
   "cell_type": "code",
   "execution_count": null,
   "id": "2c8a3621-0414-499f-aff3-6baffea72c45",
   "metadata": {},
   "outputs": [],
   "source": []
  },
  {
   "cell_type": "code",
   "execution_count": null,
   "id": "c260ebaa-ceb3-485c-bbec-fa8f4a009220",
   "metadata": {},
   "outputs": [],
   "source": []
  },
  {
   "cell_type": "code",
   "execution_count": null,
   "id": "259a04ff-7170-42a6-ba4c-8641e3f695cb",
   "metadata": {},
   "outputs": [],
   "source": []
  },
  {
   "cell_type": "code",
   "execution_count": null,
   "id": "579898fd-9b82-4f6b-abf5-65c931543d28",
   "metadata": {},
   "outputs": [],
   "source": []
  },
  {
   "cell_type": "code",
   "execution_count": null,
   "id": "97b2559a-471a-4697-af7a-7399994fd359",
   "metadata": {},
   "outputs": [],
   "source": []
  },
  {
   "cell_type": "code",
   "execution_count": null,
   "id": "03269387-e496-48f4-8cf3-a34ad6a34796",
   "metadata": {},
   "outputs": [],
   "source": []
  },
  {
   "cell_type": "code",
   "execution_count": null,
   "id": "78e90a30-21c3-430a-b2ae-73e86a47ba7e",
   "metadata": {},
   "outputs": [],
   "source": []
  },
  {
   "cell_type": "code",
   "execution_count": null,
   "id": "8ff1bc32-5ec6-47f6-9b24-4329a5441f2e",
   "metadata": {},
   "outputs": [],
   "source": []
  },
  {
   "cell_type": "code",
   "execution_count": null,
   "id": "e7a28400-0d6d-467a-98e7-3cc599ffa24e",
   "metadata": {},
   "outputs": [],
   "source": []
  },
  {
   "cell_type": "code",
   "execution_count": null,
   "id": "bf87d4ad-03dc-4660-aaf6-21b40141ae21",
   "metadata": {},
   "outputs": [],
   "source": []
  },
  {
   "cell_type": "code",
   "execution_count": null,
   "id": "d8f1683a-54f4-4975-b6f2-ddbd4aeea4c2",
   "metadata": {},
   "outputs": [],
   "source": []
  },
  {
   "cell_type": "code",
   "execution_count": null,
   "id": "0de9e855-b0bc-402d-b34a-5ccc7c42ee40",
   "metadata": {},
   "outputs": [],
   "source": []
  },
  {
   "cell_type": "code",
   "execution_count": null,
   "id": "89eadc5b-5d19-4636-a477-c057d91d0eaf",
   "metadata": {},
   "outputs": [],
   "source": []
  },
  {
   "cell_type": "code",
   "execution_count": null,
   "id": "f7530ae4-14c3-4501-8c46-ae76da2b33f4",
   "metadata": {},
   "outputs": [],
   "source": []
  },
  {
   "cell_type": "code",
   "execution_count": null,
   "id": "4c90fffc-ad11-4bfd-85b8-5d31c1b96ff3",
   "metadata": {},
   "outputs": [],
   "source": []
  },
  {
   "cell_type": "code",
   "execution_count": null,
   "id": "900ec62f-0bff-4587-8eee-a96f09d9d74f",
   "metadata": {},
   "outputs": [],
   "source": []
  }
 ],
 "metadata": {
  "kernelspec": {
   "display_name": "Python 3 (ipykernel)",
   "language": "python",
   "name": "python3"
  },
  "language_info": {
   "codemirror_mode": {
    "name": "ipython",
    "version": 3
   },
   "file_extension": ".py",
   "mimetype": "text/x-python",
   "name": "python",
   "nbconvert_exporter": "python",
   "pygments_lexer": "ipython3",
   "version": "3.10.8"
  }
 },
 "nbformat": 4,
 "nbformat_minor": 5
}
